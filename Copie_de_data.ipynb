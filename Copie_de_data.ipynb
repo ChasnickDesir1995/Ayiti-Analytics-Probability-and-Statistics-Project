{
  "nbformat": 4,
  "nbformat_minor": 0,
  "metadata": {
    "interpreter": {
      "hash": "aee8b7b246df8f9039afb4144a1f6fd8d2ca17a180786b69acc140d282b71a49"
    },
    "kernelspec": {
      "display_name": "Python 3.9.6 64-bit",
      "name": "python3"
    },
    "language_info": {
      "codemirror_mode": {
        "name": "ipython",
        "version": 3
      },
      "file_extension": ".py",
      "mimetype": "text/x-python",
      "name": "python",
      "nbconvert_exporter": "python",
      "pygments_lexer": "ipython3",
      "version": "3.9.6"
    },
    "orig_nbformat": 4,
    "colab": {
      "name": "Copie de data.ipynb",
      "provenance": [],
      "collapsed_sections": [
        "zs7jHBx_jQMb"
      ]
    }
  },
  "cells": [
    {
      "cell_type": "code",
      "metadata": {
        "id": "_Sw8B6prjQMN"
      },
      "source": [
        "import numpy as np\n",
        "import pandas as pd\n",
        "import matplotlib.pyplot as plt\n",
        "import seaborn as sns\n",
        "import re as re\n",
        "import datetime as dt\n",
        "from scipy.stats import chi2_contingency\n"
      ],
      "execution_count": 1,
      "outputs": []
    },
    {
      "cell_type": "markdown",
      "metadata": {
        "id": "OLi5HYpJjQMQ"
      },
      "source": [
        "# Ayiti Analytics Probability and Statistics Project"
      ]
    },
    {
      "cell_type": "code",
      "metadata": {
        "colab": {
          "resources": {
            "http://localhost:8080/nbextensions/google.colab/files.js": {
              "data": "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",
              "ok": true,
              "headers": [
                [
                  "content-type",
                  "application/javascript"
                ]
              ],
              "status": 200,
              "status_text": ""
            }
          },
          "base_uri": "https://localhost:8080/",
          "height": 297
        },
        "id": "aoA2y_bAjl_Z",
        "outputId": "f678f9b9-262f-4c40-f098-d59376da6180"
      },
      "source": [
        "from google.colab import files\n",
        "uploaded = files.upload()"
      ],
      "execution_count": 2,
      "outputs": [
        {
          "output_type": "display_data",
          "data": {
            "text/html": [
              "\n",
              "     <input type=\"file\" id=\"files-6fa46415-0d63-4764-8aa6-13c7c1be23df\" name=\"files[]\" multiple disabled\n",
              "        style=\"border:none\" />\n",
              "     <output id=\"result-6fa46415-0d63-4764-8aa6-13c7c1be23df\">\n",
              "      Upload widget is only available when the cell has been executed in the\n",
              "      current browser session. Please rerun this cell to enable.\n",
              "      </output>\n",
              "      <script src=\"/nbextensions/google.colab/files.js\"></script> "
            ],
            "text/plain": [
              "<IPython.core.display.HTML object>"
            ]
          },
          "metadata": {
            "tags": []
          }
        },
        {
          "output_type": "stream",
          "text": [
            "Saving commune.xlsx to commune (1).xlsx\n",
            "Saving enroll.csv to enroll (1).csv\n",
            "Saving industry.csv to industry (1).csv\n",
            "Saving ord.csv to ord (1).csv\n",
            "Saving quest.csv to quest (1).csv\n",
            "Saving study_domain.csv to study_domain (1).csv\n",
            "Saving technology.csv to technology (1).csv\n",
            "Saving transaction.csv to transaction (1).csv\n"
          ],
          "name": "stdout"
        }
      ]
    },
    {
      "cell_type": "code",
      "metadata": {
        "id": "meWLH2uxj3A9"
      },
      "source": [
        "# Read the data using csv and excel\n",
        "commune=pd.read_excel(r\"commune.xlsx\")\n",
        "enroll = pd.read_csv(r\"enroll.csv\")\n",
        "quest = pd.read_csv(r\"quest.csv\")\n",
        "industry = pd.read_csv(r\"industry.csv\")\n",
        "ord = pd.read_csv(r\"ord.csv\")\n",
        "study_domain = pd.read_csv(r\"study_domain.csv\")\n",
        "transaction = pd.read_csv(r\"transaction.csv\")\n",
        "technology = pd.read_csv(r\"technology.csv\")"
      ],
      "execution_count": 3,
      "outputs": []
    },
    {
      "cell_type": "markdown",
      "metadata": {
        "id": "2XQ6AC5qjQMR"
      },
      "source": [
        "Use all the files to have a final datasets to have the following columns\n",
        "   <ul>\n",
        "    <li>questid</li>\n",
        "    <li>gender</li>\n",
        "    <li>age (age of applicant)</li>\n",
        "    <li>communeName (use data prep in commune file)</li>\n",
        "    <li>application_date (created at in quest file)</li>\n",
        "    <li>enroll_date (created_at in enroll file)</li>\n",
        "    <li>is_enroll (Yes/No) (use data prep in enroll file)</li>\n",
        "    <li>Education Level</li>\n",
        "   <li>Communication channels(hear_AA1)</li>\n",
        "    <li>Bootcamp Interest (after_AA)</li>\n",
        "    <li>Payement Date (use ord and transaction files)</li>\n",
        "    <li>Payed (Yes/No)</li>\n",
        "    <li>list Technologies as columns based (use get_dummies)</li>\n",
        "    <li>list  Study domains (use get_dummies)</li>\n",
        "    <li>Job is formal</li>\n",
        "    <li>Have computer at home</li>\n",
        "    <li>Have internet at home</li>\n",
        "    \n",
        "   </ul>\n",
        "   "
      ]
    },
    {
      "cell_type": "code",
      "metadata": {
        "colab": {
          "base_uri": "https://localhost:8080/",
          "height": 770
        },
        "id": "qBVBCUlsbrA5",
        "outputId": "fd065220-7bc2-4819-f913-c8f1587cc2f5"
      },
      "source": [
        "#concat ord and transaction\n",
        "df=pd.concat([ord,transaction],axis=0)\n",
        "df"
      ],
      "execution_count": 4,
      "outputs": [
        {
          "output_type": "execute_result",
          "data": {
            "text/html": [
              "<div>\n",
              "<style scoped>\n",
              "    .dataframe tbody tr th:only-of-type {\n",
              "        vertical-align: middle;\n",
              "    }\n",
              "\n",
              "    .dataframe tbody tr th {\n",
              "        vertical-align: top;\n",
              "    }\n",
              "\n",
              "    .dataframe thead th {\n",
              "        text-align: right;\n",
              "    }\n",
              "</style>\n",
              "<table border=\"1\" class=\"dataframe\">\n",
              "  <thead>\n",
              "    <tr style=\"text-align: right;\">\n",
              "      <th></th>\n",
              "      <th>Unnamed: 0</th>\n",
              "      <th>created_at</th>\n",
              "      <th>user_id</th>\n",
              "      <th>product_name</th>\n",
              "      <th>product_id</th>\n",
              "      <th>amount_dollars</th>\n",
              "      <th>amount_cents</th>\n",
              "      <th>subscription</th>\n",
              "      <th>coupon_code</th>\n",
              "      <th>coupon_id</th>\n",
              "      <th>affiliate_referral_code</th>\n",
              "      <th>status</th>\n",
              "      <th>quest_id</th>\n",
              "      <th>modified_at</th>\n",
              "      <th>course_id</th>\n",
              "      <th>transaction_id</th>\n",
              "    </tr>\n",
              "  </thead>\n",
              "  <tbody>\n",
              "    <tr>\n",
              "      <th>0</th>\n",
              "      <td>0</td>\n",
              "      <td>2021-03-14T15:34:35.014Z</td>\n",
              "      <td>41587952</td>\n",
              "      <td>Entwodiksyon Nan Syans Done</td>\n",
              "      <td>1100636.0</td>\n",
              "      <td>20.0</td>\n",
              "      <td>2000.0</td>\n",
              "      <td>False</td>\n",
              "      <td>NaN</td>\n",
              "      <td>NaN</td>\n",
              "      <td>NaN</td>\n",
              "      <td>Complete</td>\n",
              "      <td>906b3c86-ce95-11eb-b6a7-7c67a234f601</td>\n",
              "      <td>NaN</td>\n",
              "      <td>NaN</td>\n",
              "      <td>NaN</td>\n",
              "    </tr>\n",
              "    <tr>\n",
              "      <th>1</th>\n",
              "      <td>1</td>\n",
              "      <td>2021-03-14T04:20:23.483Z</td>\n",
              "      <td>41564742</td>\n",
              "      <td>Entwodiksyon Nan Syans Done</td>\n",
              "      <td>1100636.0</td>\n",
              "      <td>20.0</td>\n",
              "      <td>2000.0</td>\n",
              "      <td>False</td>\n",
              "      <td>NaN</td>\n",
              "      <td>NaN</td>\n",
              "      <td>NaN</td>\n",
              "      <td>Complete</td>\n",
              "      <td>906636cf-ce95-11eb-8679-7c67a234f601</td>\n",
              "      <td>NaN</td>\n",
              "      <td>NaN</td>\n",
              "      <td>NaN</td>\n",
              "    </tr>\n",
              "    <tr>\n",
              "      <th>2</th>\n",
              "      <td>2</td>\n",
              "      <td>2021-03-12T19:29:22.832Z</td>\n",
              "      <td>41501853</td>\n",
              "      <td>Entwodiksyon Nan Syans Done</td>\n",
              "      <td>1100636.0</td>\n",
              "      <td>20.0</td>\n",
              "      <td>2000.0</td>\n",
              "      <td>False</td>\n",
              "      <td>NaN</td>\n",
              "      <td>NaN</td>\n",
              "      <td>NaN</td>\n",
              "      <td>Complete</td>\n",
              "      <td>906968f5-ce95-11eb-9e1a-7c67a234f601</td>\n",
              "      <td>NaN</td>\n",
              "      <td>NaN</td>\n",
              "      <td>NaN</td>\n",
              "    </tr>\n",
              "    <tr>\n",
              "      <th>3</th>\n",
              "      <td>3</td>\n",
              "      <td>2021-03-12T14:23:11.154Z</td>\n",
              "      <td>40284930</td>\n",
              "      <td>Entwodiksyon Nan Syans Done</td>\n",
              "      <td>1100636.0</td>\n",
              "      <td>0.0</td>\n",
              "      <td>0.0</td>\n",
              "      <td>False</td>\n",
              "      <td>impact_hub_coupon</td>\n",
              "      <td>6658457.0</td>\n",
              "      <td>NaN</td>\n",
              "      <td>Complete</td>\n",
              "      <td>9060477c-ce95-11eb-ace3-7c67a234f601</td>\n",
              "      <td>NaN</td>\n",
              "      <td>NaN</td>\n",
              "      <td>NaN</td>\n",
              "    </tr>\n",
              "    <tr>\n",
              "      <th>4</th>\n",
              "      <td>4</td>\n",
              "      <td>2021-03-11T16:01:17.901Z</td>\n",
              "      <td>40281483</td>\n",
              "      <td>Entwodiksyon Nan Syans Done</td>\n",
              "      <td>1100636.0</td>\n",
              "      <td>20.0</td>\n",
              "      <td>2000.0</td>\n",
              "      <td>False</td>\n",
              "      <td>NaN</td>\n",
              "      <td>NaN</td>\n",
              "      <td>NaN</td>\n",
              "      <td>Complete</td>\n",
              "      <td>9064ff29-ce95-11eb-a3d3-7c67a234f601</td>\n",
              "      <td>NaN</td>\n",
              "      <td>NaN</td>\n",
              "      <td>NaN</td>\n",
              "    </tr>\n",
              "    <tr>\n",
              "      <th>...</th>\n",
              "      <td>...</td>\n",
              "      <td>...</td>\n",
              "      <td>...</td>\n",
              "      <td>...</td>\n",
              "      <td>...</td>\n",
              "      <td>...</td>\n",
              "      <td>...</td>\n",
              "      <td>...</td>\n",
              "      <td>...</td>\n",
              "      <td>...</td>\n",
              "      <td>...</td>\n",
              "      <td>...</td>\n",
              "      <td>...</td>\n",
              "      <td>...</td>\n",
              "      <td>...</td>\n",
              "      <td>...</td>\n",
              "    </tr>\n",
              "    <tr>\n",
              "      <th>55</th>\n",
              "      <td>55</td>\n",
              "      <td>2021-03-13T00:48:13.726Z</td>\n",
              "      <td>40008926</td>\n",
              "      <td>NaN</td>\n",
              "      <td>NaN</td>\n",
              "      <td>NaN</td>\n",
              "      <td>NaN</td>\n",
              "      <td>NaN</td>\n",
              "      <td>NaN</td>\n",
              "      <td>NaN</td>\n",
              "      <td>NaN</td>\n",
              "      <td>NaN</td>\n",
              "      <td>NaN</td>\n",
              "      <td>2021-03-13T00:48:13.726Z</td>\n",
              "      <td>1047613.0</td>\n",
              "      <td>4.676273e+09</td>\n",
              "    </tr>\n",
              "    <tr>\n",
              "      <th>56</th>\n",
              "      <td>56</td>\n",
              "      <td>2021-03-13T03:54:12.406Z</td>\n",
              "      <td>41328544</td>\n",
              "      <td>NaN</td>\n",
              "      <td>NaN</td>\n",
              "      <td>NaN</td>\n",
              "      <td>NaN</td>\n",
              "      <td>NaN</td>\n",
              "      <td>NaN</td>\n",
              "      <td>NaN</td>\n",
              "      <td>NaN</td>\n",
              "      <td>NaN</td>\n",
              "      <td>NaN</td>\n",
              "      <td>2021-03-13T03:54:12.406Z</td>\n",
              "      <td>1047613.0</td>\n",
              "      <td>4.676841e+09</td>\n",
              "    </tr>\n",
              "    <tr>\n",
              "      <th>57</th>\n",
              "      <td>57</td>\n",
              "      <td>2021-03-14T02:16:08.983Z</td>\n",
              "      <td>41508160</td>\n",
              "      <td>NaN</td>\n",
              "      <td>NaN</td>\n",
              "      <td>NaN</td>\n",
              "      <td>NaN</td>\n",
              "      <td>NaN</td>\n",
              "      <td>NaN</td>\n",
              "      <td>NaN</td>\n",
              "      <td>NaN</td>\n",
              "      <td>NaN</td>\n",
              "      <td>NaN</td>\n",
              "      <td>2021-03-14T02:16:08.983Z</td>\n",
              "      <td>1047613.0</td>\n",
              "      <td>4.684297e+09</td>\n",
              "    </tr>\n",
              "    <tr>\n",
              "      <th>58</th>\n",
              "      <td>58</td>\n",
              "      <td>2021-03-14T07:34:09.638Z</td>\n",
              "      <td>41569249</td>\n",
              "      <td>NaN</td>\n",
              "      <td>NaN</td>\n",
              "      <td>NaN</td>\n",
              "      <td>NaN</td>\n",
              "      <td>NaN</td>\n",
              "      <td>NaN</td>\n",
              "      <td>NaN</td>\n",
              "      <td>NaN</td>\n",
              "      <td>NaN</td>\n",
              "      <td>NaN</td>\n",
              "      <td>2021-03-14T07:34:09.638Z</td>\n",
              "      <td>1047613.0</td>\n",
              "      <td>4.684608e+09</td>\n",
              "    </tr>\n",
              "    <tr>\n",
              "      <th>59</th>\n",
              "      <td>59</td>\n",
              "      <td>2021-03-14T17:34:45.179Z</td>\n",
              "      <td>41592698</td>\n",
              "      <td>NaN</td>\n",
              "      <td>NaN</td>\n",
              "      <td>NaN</td>\n",
              "      <td>NaN</td>\n",
              "      <td>NaN</td>\n",
              "      <td>NaN</td>\n",
              "      <td>NaN</td>\n",
              "      <td>NaN</td>\n",
              "      <td>NaN</td>\n",
              "      <td>NaN</td>\n",
              "      <td>2021-03-14T17:34:45.179Z</td>\n",
              "      <td>1047613.0</td>\n",
              "      <td>4.687104e+09</td>\n",
              "    </tr>\n",
              "  </tbody>\n",
              "</table>\n",
              "<p>78 rows × 16 columns</p>\n",
              "</div>"
            ],
            "text/plain": [
              "    Unnamed: 0                created_at  ...  course_id transaction_id\n",
              "0            0  2021-03-14T15:34:35.014Z  ...        NaN            NaN\n",
              "1            1  2021-03-14T04:20:23.483Z  ...        NaN            NaN\n",
              "2            2  2021-03-12T19:29:22.832Z  ...        NaN            NaN\n",
              "3            3  2021-03-12T14:23:11.154Z  ...        NaN            NaN\n",
              "4            4  2021-03-11T16:01:17.901Z  ...        NaN            NaN\n",
              "..         ...                       ...  ...        ...            ...\n",
              "55          55  2021-03-13T00:48:13.726Z  ...  1047613.0   4.676273e+09\n",
              "56          56  2021-03-13T03:54:12.406Z  ...  1047613.0   4.676841e+09\n",
              "57          57  2021-03-14T02:16:08.983Z  ...  1047613.0   4.684297e+09\n",
              "58          58  2021-03-14T07:34:09.638Z  ...  1047613.0   4.684608e+09\n",
              "59          59  2021-03-14T17:34:45.179Z  ...  1047613.0   4.687104e+09\n",
              "\n",
              "[78 rows x 16 columns]"
            ]
          },
          "metadata": {
            "tags": []
          },
          "execution_count": 4
        }
      ]
    },
    {
      "cell_type": "code",
      "metadata": {
        "id": "g6FtxEQUcKtB"
      },
      "source": [
        "# Rename columns\n",
        "df.rename(columns={\"created_at\":\"payment_date\"}, inplace=True)"
      ],
      "execution_count": 5,
      "outputs": []
    },
    {
      "cell_type": "code",
      "metadata": {
        "id": "JGnnXOvYsnuQ"
      },
      "source": [
        "#Rename columns Created_at in Transaction files\n",
        "transaction.rename(columns={\"created_at\":\"moncash_date\"}, inplace=True)\n",
        "\n",
        "#Rename columns Created_at in Ord files\n",
        "ord.rename(columns={\"created_at\":\"credit_card_date\"}, inplace=True)\n",
        "\n",
        "#Rename columns Created_at in enroll files\n",
        "enroll.rename(columns={\"created_at\":\"Enroll_Date\"}, inplace=True)\n",
        "\n",
        "#rename columns created-at in quest file\n",
        "quest.rename(columns={\"created_at\":\"Application_Date\"}, inplace=True)"
      ],
      "execution_count": 6,
      "outputs": []
    },
    {
      "cell_type": "code",
      "metadata": {
        "id": "SBaANDkguAPn"
      },
      "source": [
        "# Format to date\n",
        "transaction.moncash_date = pd.to_datetime(transaction.moncash_date).dt.tz_localize(None)\n",
        "ord.credit_card_date= pd.to_datetime(ord.credit_card_date).dt.tz_localize(None)\n",
        "#enroll.Enroll_Date=pd.to_datetime(enroll.Enroll_Date)\n",
        "#quest.Application_Date=pd.to_datetime(quest.Application_Date)"
      ],
      "execution_count": 7,
      "outputs": []
    },
    {
      "cell_type": "code",
      "metadata": {
        "id": "qOYF4WyKlHnJ"
      },
      "source": [
        "#Extract each values of \"Study_domain\" and place them into a separate Columns before Merge\n",
        "study_domain1 = pd.get_dummies(data=study_domain[[\"key\", \"quest_id\", \"values\"]], columns=['values'], prefix=\"\", prefix_sep=\"\")\n",
        "study_domain2 = study_domain1.groupby(\"quest_id\").sum()"
      ],
      "execution_count": 8,
      "outputs": []
    },
    {
      "cell_type": "code",
      "metadata": {
        "id": "AAmwAgpmmc6A"
      },
      "source": [
        "#Extract each values of \"Technology\" and place them into a separate Columns before Merge\n",
        "technology1 = pd.get_dummies(technology[[\"key\", \"quest_id\", \"values\"]], columns=['values'], prefix=\"\", prefix_sep=\"\")\n",
        "technology2 = technology1.groupby(\"quest_id\").sum()"
      ],
      "execution_count": 9,
      "outputs": []
    },
    {
      "cell_type": "code",
      "metadata": {
        "id": "qvZEgsFunbbw"
      },
      "source": [
        "#Extract each values of \"industry\" and place them into a separate Columns before Merge\n",
        "industry1= pd.get_dummies(industry[[\"key\", \"quest_id\", \"values\"]], columns=['values'], prefix=\"\", prefix_sep=\"\")\n",
        "industry2= industry1.groupby(\"quest_id\").sum()"
      ],
      "execution_count": 10,
      "outputs": []
    },
    {
      "cell_type": "code",
      "metadata": {
        "id": "i1E-9U6qm0gA"
      },
      "source": [
        "# Merge Tables by \"quest_id\"\n",
        "result = pd.merge(quest,enroll,how=\"left\",on=\"quest_id\")\n",
        "\n",
        "# Merge Tables by \"user_id\"\n",
        "result1 =pd.merge(result,ord,how=\"left\",on=\"user_id\")\n",
        "result2 = pd.merge(result1,transaction,how=\"left\",on=\"user_id\")\n",
        "\n",
        "# create columns named \"is_enroll\"\n",
        "result2[\"is_enroll\"] = 'No'\n",
        "result2.loc[~result2.Enroll_Date.isna(),[\"is_enroll\"]] =\"Yes\"\n",
        "\n",
        "# create columns named \"payed\"\n",
        "result2[\"payed\"] = 'No'\n",
        "result2.loc[~(result1.credit_card_date.isna() & result2.moncash_date.isna()),[\"payed\"]] =\"Yes\""
      ],
      "execution_count": 11,
      "outputs": []
    },
    {
      "cell_type": "code",
      "metadata": {
        "id": "FSJjK2cW8dQs"
      },
      "source": [
        "# Drop Columns\n",
        "result2.drop([\"Unnamed: 0_x\",\"modified_at_x\",\"Unnamed: 0_y\",\"expiry_date\",'course_name','course_id_x','percentage_completed','completed_at','expired','is_free_trial','completed','started_at','activated_at','updated_at','Unnamed: 0_x','product_name', 'product_id','amount_dollars','amount_cents','subscription','quest_id_y','Unnamed: 0_y','modified_at_y','course_id_y','transaction_id'], axis=\"columns\" , inplace=True)"
      ],
      "execution_count": 12,
      "outputs": []
    },
    {
      "cell_type": "code",
      "metadata": {
        "id": "mJEc4kLC-Sts"
      },
      "source": [
        "#Drop columns\n",
        "result2.drop(['coupon_code','coupon_id', 'affiliate_referral_code','status','study_domain'], axis=\"columns\" , inplace=True)"
      ],
      "execution_count": 13,
      "outputs": []
    },
    {
      "cell_type": "code",
      "metadata": {
        "id": "DN7zuhtsALzM"
      },
      "source": [
        "#rename columns quest_id_x in result2 file\n",
        "result2.rename(columns={\"quest_id_x\":\"quest_id\"}, inplace=True)"
      ],
      "execution_count": 14,
      "outputs": []
    },
    {
      "cell_type": "code",
      "metadata": {
        "id": "_NsCvcjR79jd"
      },
      "source": [
        "#merge tables on \"quest_id\"\n",
        "result3=pd.merge(result2,study_domain2, how = 'left',on='quest_id')"
      ],
      "execution_count": 15,
      "outputs": []
    },
    {
      "cell_type": "code",
      "metadata": {
        "id": "Gx1YpywfBKKD"
      },
      "source": [
        "#Merge tables\n",
        "result4=pd.merge(result3,technology2, how = 'left',on='quest_id')"
      ],
      "execution_count": 16,
      "outputs": []
    },
    {
      "cell_type": "code",
      "metadata": {
        "id": "UAHW4vCGDBF8"
      },
      "source": [
        "# Merge tables\n",
        "#result5=pd.merge(result4,industry2, how = 'left',on='quest_id')\n",
        "\n",
        "#Transform \"Commune_Id\" Values in lower Character before Merge\n",
        "commune[\"Commune_Id\"] = commune[\"Commune_Id\"].str.lower()\n",
        "\n",
        "#Rename \"Commune_Id\" in \"commune\"\n",
        "commune.rename(columns = {\"Commune_Id\": \"commune\"}, inplace = True)\n",
        "\n",
        "# Merge Result4 and Commune\n",
        "result6=pd.merge(result4,commune[[\"Commune_FR\",\"Departement\", \"commune\"]], how = 'left',on='commune')"
      ],
      "execution_count": 17,
      "outputs": []
    },
    {
      "cell_type": "code",
      "metadata": {
        "id": "EUp1YBG9E_Us"
      },
      "source": [
        "#rename columns in result6 file\n",
        "result6.rename(columns={\"hear_AA_1\":\"communication_channel\",'after_AA':\"Bootcamp_Interest\",'other_x':\"Others_Study_Domain\",'other_y':\"Others_Technologies\",'other':\"other_industry\",'Commune_FR':\"commune_name\"}, inplace=True)"
      ],
      "execution_count": 18,
      "outputs": []
    },
    {
      "cell_type": "code",
      "metadata": {
        "colab": {
          "base_uri": "https://localhost:8080/"
        },
        "id": "10ntx5RwEC77",
        "outputId": "55ccf542-38fd-4ce1-cd04-cf0f34f8cf1d"
      },
      "source": [
        "#Drop columns\n",
        "result6.drop(['commune',\"department\"], axis=\"columns\" , inplace=True)\n",
        "result6.columns"
      ],
      "execution_count": 19,
      "outputs": [
        {
          "output_type": "execute_result",
          "data": {
            "text/plain": [
              "Index(['gender', 'dob', 'Application_Date', 'education_level', 'university',\n",
              "       'current_employed', 'formal_sector_job', 'have_computer_home',\n",
              "       'internet_at_home', 'communication_channel', 'Bootcamp_Interest',\n",
              "       'quest_id', 'Enroll_Date', 'user_id', 'credit_card_date',\n",
              "       'moncash_date', 'is_enroll', 'payed', 'Accounting', 'Computer Science',\n",
              "       'Economics', 'Electrical Engineering', 'Law', 'Management', 'Medicine',\n",
              "       'Statistics', 'Others_Study_Domain', 'Bash', 'Excel', 'Git', 'Java',\n",
              "       'JavaScript', 'PHP', 'PowerBI or Tableau', 'Python', 'R', 'SQL', 'VBA',\n",
              "       'Others_Technologies', 'commune_name', 'Departement'],\n",
              "      dtype='object')"
            ]
          },
          "metadata": {
            "tags": []
          },
          "execution_count": 19
        }
      ]
    },
    {
      "cell_type": "code",
      "metadata": {
        "id": "09fXqB2a6HP9",
        "colab": {
          "base_uri": "https://localhost:8080/",
          "height": 433
        },
        "outputId": "5a290d02-21a7-4f33-e456-439af2736385"
      },
      "source": [
        "#Format in Date \n",
        "result6[\"dob\"].replace({\"3 aout 1977\": \"3/08/1977\"}, inplace=True)\n",
        "result6.dob = pd.to_datetime(result6.dob).dt.tz_localize(None)\n",
        "result6.Application_Date = pd.to_datetime(result6.Application_Date).dt.tz_localize(None)\n",
        "\n",
        "# remove timezone to those columns\n",
        "#testdata['time'].dt.tz_localize(None)\n",
        "\n",
        "# Add columns age\n",
        "result6[\"age\"] = (result6[\"Application_Date\"] -result6[\"dob\"])\n",
        "result6[\"age\"] = result6[\"age\"]// np.timedelta64(1,\"Y\")\n",
        "\n",
        "# See the Result\n",
        "result6.head(4)\n"
      ],
      "execution_count": 20,
      "outputs": [
        {
          "output_type": "execute_result",
          "data": {
            "text/html": [
              "<div>\n",
              "<style scoped>\n",
              "    .dataframe tbody tr th:only-of-type {\n",
              "        vertical-align: middle;\n",
              "    }\n",
              "\n",
              "    .dataframe tbody tr th {\n",
              "        vertical-align: top;\n",
              "    }\n",
              "\n",
              "    .dataframe thead th {\n",
              "        text-align: right;\n",
              "    }\n",
              "</style>\n",
              "<table border=\"1\" class=\"dataframe\">\n",
              "  <thead>\n",
              "    <tr style=\"text-align: right;\">\n",
              "      <th></th>\n",
              "      <th>gender</th>\n",
              "      <th>dob</th>\n",
              "      <th>Application_Date</th>\n",
              "      <th>education_level</th>\n",
              "      <th>university</th>\n",
              "      <th>current_employed</th>\n",
              "      <th>formal_sector_job</th>\n",
              "      <th>have_computer_home</th>\n",
              "      <th>internet_at_home</th>\n",
              "      <th>communication_channel</th>\n",
              "      <th>Bootcamp_Interest</th>\n",
              "      <th>quest_id</th>\n",
              "      <th>Enroll_Date</th>\n",
              "      <th>user_id</th>\n",
              "      <th>credit_card_date</th>\n",
              "      <th>moncash_date</th>\n",
              "      <th>is_enroll</th>\n",
              "      <th>payed</th>\n",
              "      <th>Accounting</th>\n",
              "      <th>Computer Science</th>\n",
              "      <th>Economics</th>\n",
              "      <th>Electrical Engineering</th>\n",
              "      <th>Law</th>\n",
              "      <th>Management</th>\n",
              "      <th>Medicine</th>\n",
              "      <th>Statistics</th>\n",
              "      <th>Others_Study_Domain</th>\n",
              "      <th>Bash</th>\n",
              "      <th>Excel</th>\n",
              "      <th>Git</th>\n",
              "      <th>Java</th>\n",
              "      <th>JavaScript</th>\n",
              "      <th>PHP</th>\n",
              "      <th>PowerBI or Tableau</th>\n",
              "      <th>Python</th>\n",
              "      <th>R</th>\n",
              "      <th>SQL</th>\n",
              "      <th>VBA</th>\n",
              "      <th>Others_Technologies</th>\n",
              "      <th>commune_name</th>\n",
              "      <th>Departement</th>\n",
              "      <th>age</th>\n",
              "    </tr>\n",
              "  </thead>\n",
              "  <tbody>\n",
              "    <tr>\n",
              "      <th>0</th>\n",
              "      <td>male</td>\n",
              "      <td>1998-08-25</td>\n",
              "      <td>2021-02-14 23:03:52.768400</td>\n",
              "      <td>unknown</td>\n",
              "      <td>unknown</td>\n",
              "      <td>unknown</td>\n",
              "      <td>unknown</td>\n",
              "      <td>unknown</td>\n",
              "      <td>unknown</td>\n",
              "      <td>unknown</td>\n",
              "      <td>unknown</td>\n",
              "      <td>905dc006-ce95-11eb-b2f9-7c67a234f601</td>\n",
              "      <td>2021-02-14T23:15:19.500Z</td>\n",
              "      <td>39726355.0</td>\n",
              "      <td>NaT</td>\n",
              "      <td>NaT</td>\n",
              "      <td>Yes</td>\n",
              "      <td>No</td>\n",
              "      <td>NaN</td>\n",
              "      <td>NaN</td>\n",
              "      <td>NaN</td>\n",
              "      <td>NaN</td>\n",
              "      <td>NaN</td>\n",
              "      <td>NaN</td>\n",
              "      <td>NaN</td>\n",
              "      <td>NaN</td>\n",
              "      <td>NaN</td>\n",
              "      <td>NaN</td>\n",
              "      <td>NaN</td>\n",
              "      <td>NaN</td>\n",
              "      <td>NaN</td>\n",
              "      <td>NaN</td>\n",
              "      <td>NaN</td>\n",
              "      <td>NaN</td>\n",
              "      <td>NaN</td>\n",
              "      <td>NaN</td>\n",
              "      <td>NaN</td>\n",
              "      <td>NaN</td>\n",
              "      <td>NaN</td>\n",
              "      <td>Port-au-Prince</td>\n",
              "      <td>West</td>\n",
              "      <td>22.0</td>\n",
              "    </tr>\n",
              "    <tr>\n",
              "      <th>1</th>\n",
              "      <td>female</td>\n",
              "      <td>1996-09-29</td>\n",
              "      <td>2021-02-16 16:01:10.861844</td>\n",
              "      <td>Bachelors (bacc +4)</td>\n",
              "      <td>other</td>\n",
              "      <td>No</td>\n",
              "      <td>unknown</td>\n",
              "      <td>Yes</td>\n",
              "      <td>Yes</td>\n",
              "      <td>Friend</td>\n",
              "      <td>Finding a job/internship</td>\n",
              "      <td>905ddcf2-ce95-11eb-9a92-7c67a234f601</td>\n",
              "      <td>NaN</td>\n",
              "      <td>NaN</td>\n",
              "      <td>NaT</td>\n",
              "      <td>NaT</td>\n",
              "      <td>No</td>\n",
              "      <td>No</td>\n",
              "      <td>0.0</td>\n",
              "      <td>0.0</td>\n",
              "      <td>0.0</td>\n",
              "      <td>0.0</td>\n",
              "      <td>0.0</td>\n",
              "      <td>0.0</td>\n",
              "      <td>0.0</td>\n",
              "      <td>0.0</td>\n",
              "      <td>1.0</td>\n",
              "      <td>0.0</td>\n",
              "      <td>1.0</td>\n",
              "      <td>0.0</td>\n",
              "      <td>0.0</td>\n",
              "      <td>0.0</td>\n",
              "      <td>0.0</td>\n",
              "      <td>0.0</td>\n",
              "      <td>0.0</td>\n",
              "      <td>1.0</td>\n",
              "      <td>0.0</td>\n",
              "      <td>0.0</td>\n",
              "      <td>0.0</td>\n",
              "      <td>Port-au-Prince</td>\n",
              "      <td>West</td>\n",
              "      <td>24.0</td>\n",
              "    </tr>\n",
              "    <tr>\n",
              "      <th>2</th>\n",
              "      <td>male</td>\n",
              "      <td>1996-05-17</td>\n",
              "      <td>2021-02-16 16:56:30.579504</td>\n",
              "      <td>Bachelors (bacc +4)</td>\n",
              "      <td>Université d'Etat d'Haïti (UEH)</td>\n",
              "      <td>No</td>\n",
              "      <td>unknown</td>\n",
              "      <td>Yes</td>\n",
              "      <td>Yes</td>\n",
              "      <td>Friend</td>\n",
              "      <td>Improving my data analysis skills</td>\n",
              "      <td>905e2608-ce95-11eb-809f-7c67a234f601</td>\n",
              "      <td>2021-02-20T21:20:37.450Z</td>\n",
              "      <td>40117659.0</td>\n",
              "      <td>NaT</td>\n",
              "      <td>2021-03-03 23:00:11.974</td>\n",
              "      <td>Yes</td>\n",
              "      <td>Yes</td>\n",
              "      <td>NaN</td>\n",
              "      <td>NaN</td>\n",
              "      <td>NaN</td>\n",
              "      <td>NaN</td>\n",
              "      <td>NaN</td>\n",
              "      <td>NaN</td>\n",
              "      <td>NaN</td>\n",
              "      <td>NaN</td>\n",
              "      <td>NaN</td>\n",
              "      <td>1.0</td>\n",
              "      <td>1.0</td>\n",
              "      <td>1.0</td>\n",
              "      <td>1.0</td>\n",
              "      <td>1.0</td>\n",
              "      <td>0.0</td>\n",
              "      <td>0.0</td>\n",
              "      <td>1.0</td>\n",
              "      <td>0.0</td>\n",
              "      <td>1.0</td>\n",
              "      <td>0.0</td>\n",
              "      <td>0.0</td>\n",
              "      <td>Port-au-Prince</td>\n",
              "      <td>West</td>\n",
              "      <td>24.0</td>\n",
              "    </tr>\n",
              "    <tr>\n",
              "      <th>3</th>\n",
              "      <td>male</td>\n",
              "      <td>1996-11-24</td>\n",
              "      <td>2021-02-16 16:57:55.754541</td>\n",
              "      <td>Bachelors (bacc +4)</td>\n",
              "      <td>Ecole Supérieure d'Infotronique d'Haïti (ESIH)</td>\n",
              "      <td>No</td>\n",
              "      <td>unknown</td>\n",
              "      <td>Yes</td>\n",
              "      <td>Yes</td>\n",
              "      <td>ESIH</td>\n",
              "      <td>Improving my data analysis skills</td>\n",
              "      <td>905e4cf5-ce95-11eb-96a9-7c67a234f601</td>\n",
              "      <td>NaN</td>\n",
              "      <td>NaN</td>\n",
              "      <td>NaT</td>\n",
              "      <td>NaT</td>\n",
              "      <td>No</td>\n",
              "      <td>No</td>\n",
              "      <td>0.0</td>\n",
              "      <td>1.0</td>\n",
              "      <td>0.0</td>\n",
              "      <td>0.0</td>\n",
              "      <td>0.0</td>\n",
              "      <td>1.0</td>\n",
              "      <td>0.0</td>\n",
              "      <td>0.0</td>\n",
              "      <td>0.0</td>\n",
              "      <td>0.0</td>\n",
              "      <td>1.0</td>\n",
              "      <td>0.0</td>\n",
              "      <td>1.0</td>\n",
              "      <td>1.0</td>\n",
              "      <td>1.0</td>\n",
              "      <td>0.0</td>\n",
              "      <td>1.0</td>\n",
              "      <td>0.0</td>\n",
              "      <td>0.0</td>\n",
              "      <td>0.0</td>\n",
              "      <td>0.0</td>\n",
              "      <td>Port-au-Prince</td>\n",
              "      <td>West</td>\n",
              "      <td>24.0</td>\n",
              "    </tr>\n",
              "  </tbody>\n",
              "</table>\n",
              "</div>"
            ],
            "text/plain": [
              "   gender        dob  ... Departement   age\n",
              "0    male 1998-08-25  ...        West  22.0\n",
              "1  female 1996-09-29  ...        West  24.0\n",
              "2    male 1996-05-17  ...        West  24.0\n",
              "3    male 1996-11-24  ...        West  24.0\n",
              "\n",
              "[4 rows x 42 columns]"
            ]
          },
          "metadata": {
            "tags": []
          },
          "execution_count": 20
        }
      ]
    },
    {
      "cell_type": "code",
      "metadata": {
        "id": "UhKxk1dBmozJ"
      },
      "source": [
        "#Merge Table\n",
        "result7=pd.merge(result6,df[['payment_date','user_id']],how='left', on='user_id')"
      ],
      "execution_count": 21,
      "outputs": []
    },
    {
      "cell_type": "code",
      "metadata": {
        "id": "tRTUGxxJo5wb"
      },
      "source": [
        "#Format in date\n",
        "result7. payment_date = pd.to_datetime(result7. payment_date).dt.tz_localize(None)"
      ],
      "execution_count": 22,
      "outputs": []
    },
    {
      "cell_type": "code",
      "metadata": {
        "colab": {
          "base_uri": "https://localhost:8080/"
        },
        "id": "yX_hTqjtpPlQ",
        "outputId": "2e3d3210-30e6-4271-cddc-cb778c595135"
      },
      "source": [
        "#Drop columns\n",
        "result7.drop(['user_id',\"Departement\",\"current_employed\",\"university\",\"dob\",\"credit_card_date\",\"moncash_date\"], axis=\"columns\" , inplace=True)\n",
        "result7.columns"
      ],
      "execution_count": 23,
      "outputs": [
        {
          "output_type": "execute_result",
          "data": {
            "text/plain": [
              "Index(['gender', 'Application_Date', 'education_level', 'formal_sector_job',\n",
              "       'have_computer_home', 'internet_at_home', 'communication_channel',\n",
              "       'Bootcamp_Interest', 'quest_id', 'Enroll_Date', 'is_enroll', 'payed',\n",
              "       'Accounting', 'Computer Science', 'Economics', 'Electrical Engineering',\n",
              "       'Law', 'Management', 'Medicine', 'Statistics', 'Others_Study_Domain',\n",
              "       'Bash', 'Excel', 'Git', 'Java', 'JavaScript', 'PHP',\n",
              "       'PowerBI or Tableau', 'Python', 'R', 'SQL', 'VBA',\n",
              "       'Others_Technologies', 'commune_name', 'age', 'payment_date'],\n",
              "      dtype='object')"
            ]
          },
          "metadata": {
            "tags": []
          },
          "execution_count": 23
        }
      ]
    },
    {
      "cell_type": "markdown",
      "metadata": {
        "id": "5kf_jxOmjQMS"
      },
      "source": [
        "###  1. How many observations and variables are there in the dataset\n",
        " "
      ]
    },
    {
      "cell_type": "code",
      "metadata": {
        "id": "ds-5_j0YjQMS",
        "colab": {
          "base_uri": "https://localhost:8080/"
        },
        "outputId": "fc3a85e0-d939-4af8-a9d9-c9b6acc49aa8"
      },
      "source": [
        "# here your codes\n",
        "A=result7.shape\n",
        "print(f'Observation Number is : {A[0]} and  Variables numbers are : {A[1]}' )"
      ],
      "execution_count": 24,
      "outputs": [
        {
          "output_type": "stream",
          "text": [
            "Observation Number is : 250 and  Variables numbers are : 36\n"
          ],
          "name": "stdout"
        }
      ]
    },
    {
      "cell_type": "markdown",
      "metadata": {
        "id": "s4aWtwsHjQMS"
      },
      "source": [
        "### 2.A Calculate the average age of the observations\n",
        "   * On the whole dataset\n",
        "   * On the whole male dataset\n",
        "   * On all the female dataset\n",
        "### 2.B Calculate \n",
        "   * variance of the whole dataset,male and female\n",
        "   * kurtosis of the whole dataset,male and female\n",
        "   * skewness of the whole dataset,male and female\n",
        "### 2.C Does the age distribution follow a normal distribution \n",
        "   "
      ]
    },
    {
      "cell_type": "markdown",
      "metadata": {
        "id": "qeC6yehj33fS"
      },
      "source": [
        "2.A"
      ]
    },
    {
      "cell_type": "code",
      "metadata": {
        "id": "LumHE7gDjQMT",
        "colab": {
          "base_uri": "https://localhost:8080/"
        },
        "outputId": "e5c2ec33-c9c4-4d03-8dc4-0d80a01d8410"
      },
      "source": [
        "# Average age of the observation on the whole dataset\n",
        "B=result7[\"age\"].mean()\n",
        "print(f\" The average age on the role dataset is {B} years. \")"
      ],
      "execution_count": 25,
      "outputs": [
        {
          "output_type": "stream",
          "text": [
            " The average age on the role dataset is 26.475409836065573 years. \n"
          ],
          "name": "stdout"
        }
      ]
    },
    {
      "cell_type": "code",
      "metadata": {
        "colab": {
          "base_uri": "https://localhost:8080/"
        },
        "id": "OV5sCxPat_TC",
        "outputId": "561d47d7-933d-4f92-ff47-c9ee0261c830"
      },
      "source": [
        "# Average age of the observation on the whole male dataset\n",
        "B_male=result7[result7[\"gender\"]==\"male\"]\n",
        "B_male_avg=B_male.age.mean()\n",
        "print(f\" The average age on the male dataset is {B_male_avg} years. \")"
      ],
      "execution_count": 26,
      "outputs": [
        {
          "output_type": "stream",
          "text": [
            " The average age on the male dataset is 26.798994974874372 years. \n"
          ],
          "name": "stdout"
        }
      ]
    },
    {
      "cell_type": "code",
      "metadata": {
        "colab": {
          "base_uri": "https://localhost:8080/"
        },
        "id": "O82PFsT_vu2R",
        "outputId": "9f01f2ad-f8d8-4261-d24f-c5bd18ff6edb"
      },
      "source": [
        "# Average age of the observation on the whole female dataset\n",
        "B_female=result7[result7[\"gender\"]==\"female\"]\n",
        "B_female_avg=B_female.age.mean()\n",
        "print(f\" The average age on the female dataset is {B_female_avg} years. \")"
      ],
      "execution_count": 27,
      "outputs": [
        {
          "output_type": "stream",
          "text": [
            " The average age on the female dataset is 25.044444444444444 years. \n"
          ],
          "name": "stdout"
        }
      ]
    },
    {
      "cell_type": "markdown",
      "metadata": {
        "id": "_2A8Mxxk4OgJ"
      },
      "source": [
        "2.B"
      ]
    },
    {
      "cell_type": "code",
      "metadata": {
        "colab": {
          "base_uri": "https://localhost:8080/"
        },
        "id": "3ysELVAHv96x",
        "outputId": "b0142ad4-4d15-4545-c074-751ae88fd7aa"
      },
      "source": [
        "#variance of the whole dataset,male and female\n",
        "C=result7['age'].var()\n",
        "print(f'The variance of the whole dataset is {C}. ')"
      ],
      "execution_count": 28,
      "outputs": [
        {
          "output_type": "stream",
          "text": [
            "The variance of the whole dataset is 52.19280847331848. \n"
          ],
          "name": "stdout"
        }
      ]
    },
    {
      "cell_type": "code",
      "metadata": {
        "colab": {
          "base_uri": "https://localhost:8080/"
        },
        "id": "wzXMq_fwwjp0",
        "outputId": "f15683f7-f892-4ea2-95f7-febaa5ddbaf1"
      },
      "source": [
        "# 2.B-variance of the whole male dataset\n",
        "D=B_male['age'].var()\n",
        "print(f'The variance of the whole dataset is {D}. ')"
      ],
      "execution_count": 29,
      "outputs": [
        {
          "output_type": "stream",
          "text": [
            "The variance of the whole dataset is 50.474544439368564. \n"
          ],
          "name": "stdout"
        }
      ]
    },
    {
      "cell_type": "code",
      "metadata": {
        "colab": {
          "base_uri": "https://localhost:8080/"
        },
        "id": "DEDlYXNvxE2B",
        "outputId": "5a5d2338-dc69-4cce-d7b5-ecf993ef2e3a"
      },
      "source": [
        "# 2.B-variance of the whole female dataset\n",
        "E=B_female['age'].var()\n",
        "print(f'The variance of the whole dataset is {E}. ')"
      ],
      "execution_count": 30,
      "outputs": [
        {
          "output_type": "stream",
          "text": [
            "The variance of the whole dataset is 58.54343434343435. \n"
          ],
          "name": "stdout"
        }
      ]
    },
    {
      "cell_type": "code",
      "metadata": {
        "id": "Ha5anH29xrgJ"
      },
      "source": [
        "#Impost missing package\n",
        "import scipy.stats as stats"
      ],
      "execution_count": 31,
      "outputs": []
    },
    {
      "cell_type": "code",
      "metadata": {
        "colab": {
          "base_uri": "https://localhost:8080/"
        },
        "id": "lIeHbSJQxQyQ",
        "outputId": "440900cd-eebb-4c47-e0d9-158b794d4970"
      },
      "source": [
        "#kurtosis of the whole dataset\n",
        "F=stats.jarque_bera(result7.age.fillna(result7.age.mean())>10)\n",
        "print(f'The kurtosis of the whole dataset is {F} ')"
      ],
      "execution_count": 32,
      "outputs": [
        {
          "output_type": "stream",
          "text": [
            "The kurtosis of the whole dataset is (11209.480138310126, 0.0) \n"
          ],
          "name": "stdout"
        }
      ]
    },
    {
      "cell_type": "code",
      "metadata": {
        "colab": {
          "base_uri": "https://localhost:8080/"
        },
        "id": "q9culfsAxbfZ",
        "outputId": "e83f4d23-73a6-4cd7-a1c2-e7f4cd45edec"
      },
      "source": [
        "#kurtosis of the female dataset\n",
        "G=stats.jarque_bera(B_female.age.fillna(result7.age.mean())>10)\n",
        "print(f'The kurtosis of the female dataset is {G} ')"
      ],
      "execution_count": 33,
      "outputs": [
        {
          "output_type": "stream",
          "text": [
            "The kurtosis of the female dataset is (834.3953034979429, 0.0) \n"
          ],
          "name": "stdout"
        }
      ]
    },
    {
      "cell_type": "code",
      "metadata": {
        "colab": {
          "base_uri": "https://localhost:8080/"
        },
        "id": "ngLb2dv6xcmB",
        "outputId": "7c25e75a-d840-4c6d-f7ba-a45bddaef3b7"
      },
      "source": [
        "#kurtosis of the male dataset\n",
        "H=stats.jarque_bera(B_male.age.fillna(result7.age.mean())>10)\n",
        "print(f'The kurtosis of the male dataset is {H} ')"
      ],
      "execution_count": 34,
      "outputs": [
        {
          "output_type": "stream",
          "text": [
            "The kurtosis of the male dataset is (12007.954350023785, 0.0) \n"
          ],
          "name": "stdout"
        }
      ]
    },
    {
      "cell_type": "code",
      "metadata": {
        "colab": {
          "base_uri": "https://localhost:8080/"
        },
        "id": "HSgVW0xp4YUJ",
        "outputId": "3dd6df24-420d-4740-e03f-42306017c4c7"
      },
      "source": [
        "#skewness of the whole dataset\n",
        "from scipy.stats import skew\n",
        "I=stats.skew(result7.age.fillna(result7.age.mean())>10)\n",
        "print(f\"The skewness of the whole dataset is {I}. \")"
      ],
      "execution_count": 35,
      "outputs": [
        {
          "output_type": "stream",
          "text": [
            "The skewness of the whole dataset is -5.72215801063269. \n"
          ],
          "name": "stdout"
        }
      ]
    },
    {
      "cell_type": "code",
      "metadata": {
        "colab": {
          "base_uri": "https://localhost:8080/"
        },
        "id": "RytSaCN14gqk",
        "outputId": "16445d06-8f41-4f76-eb43-0221b8b13b7f"
      },
      "source": [
        "#skewness of the male dataset\n",
        "J=stats.skew(B_male.age.fillna(result7.age.mean())>10)\n",
        "print(f\"The skewness of the male dataset is {J}. \")"
      ],
      "execution_count": 36,
      "outputs": [
        {
          "output_type": "stream",
          "text": [
            "The skewness of the male dataset is -6.133942657479973. \n"
          ],
          "name": "stdout"
        }
      ]
    },
    {
      "cell_type": "code",
      "metadata": {
        "colab": {
          "base_uri": "https://localhost:8080/"
        },
        "id": "NDrdIwzy4hoZ",
        "outputId": "5b339ce7-952e-464b-f97c-c8305046cf92"
      },
      "source": [
        "#skewness of the female dataset\n",
        "K=stats.skew(B_female.age.fillna(result7.age.mean())>10)\n",
        "print(f\"The skewness of the female dataset is {K}. \")"
      ],
      "execution_count": 37,
      "outputs": [
        {
          "output_type": "stream",
          "text": [
            "The skewness of the female dataset is -4.5325979795746765. \n"
          ],
          "name": "stdout"
        }
      ]
    },
    {
      "cell_type": "markdown",
      "metadata": {
        "id": "LmN4oVXe7Loq"
      },
      "source": [
        "2.C"
      ]
    },
    {
      "cell_type": "code",
      "metadata": {
        "id": "tMHalfH_Aq5L"
      },
      "source": [
        "Age=(result7.age.fillna(result7.age.mean()))"
      ],
      "execution_count": 38,
      "outputs": []
    },
    {
      "cell_type": "code",
      "metadata": {
        "colab": {
          "base_uri": "https://localhost:8080/"
        },
        "id": "c7t4QOtxAu0S",
        "outputId": "c19985af-b04d-481f-bbb5-6f0b6182452d"
      },
      "source": [
        "Age"
      ],
      "execution_count": 39,
      "outputs": [
        {
          "output_type": "execute_result",
          "data": {
            "text/plain": [
              "0      22.0\n",
              "1      24.0\n",
              "2      24.0\n",
              "3      24.0\n",
              "4      23.0\n",
              "       ... \n",
              "245    27.0\n",
              "246    30.0\n",
              "247    27.0\n",
              "248    28.0\n",
              "249    27.0\n",
              "Name: age, Length: 250, dtype: float64"
            ]
          },
          "metadata": {
            "tags": []
          },
          "execution_count": 39
        }
      ]
    },
    {
      "cell_type": "code",
      "metadata": {
        "colab": {
          "base_uri": "https://localhost:8080/"
        },
        "id": "lFI_Vht67NrC",
        "outputId": "839873b5-f98d-4072-841b-f565b2cb1492"
      },
      "source": [
        "# Does the age distribution follow a normal distribution\n",
        "\n",
        "#Import missing Package\n",
        "from scipy.stats import shapiro\n",
        "# normality test\n",
        "stat, p = shapiro(Age)\n",
        "print('Statistics=%.3f, p=%.3f' % (stat, p))\n",
        "# interpret\n",
        "alpha = 0.05\n",
        "if p > alpha:\n",
        "\tprint('Sample looks Gaussian (fail to reject H0)')\n",
        "else:\n",
        "\tprint('Sample does not look Gaussian (reject H0)')"
      ],
      "execution_count": 40,
      "outputs": [
        {
          "output_type": "stream",
          "text": [
            "Statistics=0.852, p=0.000\n",
            "Sample does not look Gaussian (reject H0)\n"
          ],
          "name": "stdout"
        }
      ]
    },
    {
      "cell_type": "code",
      "metadata": {
        "colab": {
          "base_uri": "https://localhost:8080/"
        },
        "id": "yy252rk8AI0y",
        "outputId": "37315225-7b8b-4daf-b424-271a99175c27"
      },
      "source": [
        "# Does the age distribution follow a normal distribution\n",
        "\n",
        "#import missing package\n",
        "from scipy.stats import normaltest\n",
        "# normality test\n",
        "stat, p = normaltest(Age)\n",
        "print('Statistics=%.3f, p=%.3f' % (stat, p))\n",
        "# interpret\n",
        "alpha = 0.05\n",
        "if p > alpha:\n",
        "\tprint('Sample looks Gaussian (fail to reject H0)')\n",
        "else:\n",
        "\tprint('Sample does not look Gaussian (reject H0)')"
      ],
      "execution_count": 41,
      "outputs": [
        {
          "output_type": "stream",
          "text": [
            "Statistics=53.281, p=0.000\n",
            "Sample does not look Gaussian (reject H0)\n"
          ],
          "name": "stdout"
        }
      ]
    },
    {
      "cell_type": "code",
      "metadata": {
        "colab": {
          "base_uri": "https://localhost:8080/"
        },
        "id": "Hz3FcYI-BLpr",
        "outputId": "ba60d2ee-9186-4916-fb1b-faecf9707850"
      },
      "source": [
        "# Does the age distribution follow a normal distribution\n",
        "\n",
        "#import missing package\n",
        "from scipy.stats import anderson\n",
        "# normality test\n",
        "result = anderson(Age)\n",
        "print('Statistic: %.3f' % result.statistic)\n",
        "p = 0\n",
        "for i in range(len(result.critical_values)):\n",
        "\tsl, cv = result.significance_level[i], result.critical_values[i]\n",
        "\tif result.statistic < result.critical_values[i]:\n",
        "\t\tprint('%.3f: %.3f, data looks normal (fail to reject H0)' % (sl, cv))\n",
        "\telse:\n",
        "\t\tprint('%.3f: %.3f, data does not look normal (reject H0)' % (sl, cv))"
      ],
      "execution_count": 42,
      "outputs": [
        {
          "output_type": "stream",
          "text": [
            "Statistic: 9.841\n",
            "15.000: 0.567, data does not look normal (reject H0)\n",
            "10.000: 0.646, data does not look normal (reject H0)\n",
            "5.000: 0.775, data does not look normal (reject H0)\n",
            "2.500: 0.904, data does not look normal (reject H0)\n",
            "1.000: 1.075, data does not look normal (reject H0)\n"
          ],
          "name": "stdout"
        }
      ]
    },
    {
      "cell_type": "markdown",
      "metadata": {
        "id": "D5JBkcDOjQMU"
      },
      "source": [
        "### 3.Display the age frequency distribution\n",
        "   * On the whole dataset\n",
        "   * On the whole male dataset\n",
        "   * On all the female dataset"
      ]
    },
    {
      "cell_type": "code",
      "metadata": {
        "id": "W8_B1EKdbnEL"
      },
      "source": [
        "# Create a function who can do a pivot table\n",
        "\n",
        "def pivot(data=\"x\"):\n",
        "  gender_pivot=pd.pivot_table(result7,values=\"quest_id\",index=[\"age\"], columns=data , aggfunc='count')\n",
        "  return gender_pivot"
      ],
      "execution_count": 43,
      "outputs": []
    },
    {
      "cell_type": "code",
      "metadata": {
        "colab": {
          "base_uri": "https://localhost:8080/",
          "height": 986
        },
        "id": "58bsE4jbetqD",
        "outputId": "6b6378fb-c38d-441e-f76a-56188b474407"
      },
      "source": [
        "#Display the age frequency distribution On the whole dataset\n",
        "WD1=result7.age.value_counts(normalize=True).to_frame()\n",
        "WD1"
      ],
      "execution_count": 44,
      "outputs": [
        {
          "output_type": "execute_result",
          "data": {
            "text/html": [
              "<div>\n",
              "<style scoped>\n",
              "    .dataframe tbody tr th:only-of-type {\n",
              "        vertical-align: middle;\n",
              "    }\n",
              "\n",
              "    .dataframe tbody tr th {\n",
              "        vertical-align: top;\n",
              "    }\n",
              "\n",
              "    .dataframe thead th {\n",
              "        text-align: right;\n",
              "    }\n",
              "</style>\n",
              "<table border=\"1\" class=\"dataframe\">\n",
              "  <thead>\n",
              "    <tr style=\"text-align: right;\">\n",
              "      <th></th>\n",
              "      <th>age</th>\n",
              "    </tr>\n",
              "  </thead>\n",
              "  <tbody>\n",
              "    <tr>\n",
              "      <th>24.0</th>\n",
              "      <td>0.110656</td>\n",
              "    </tr>\n",
              "    <tr>\n",
              "      <th>23.0</th>\n",
              "      <td>0.106557</td>\n",
              "    </tr>\n",
              "    <tr>\n",
              "      <th>25.0</th>\n",
              "      <td>0.098361</td>\n",
              "    </tr>\n",
              "    <tr>\n",
              "      <th>26.0</th>\n",
              "      <td>0.086066</td>\n",
              "    </tr>\n",
              "    <tr>\n",
              "      <th>28.0</th>\n",
              "      <td>0.073770</td>\n",
              "    </tr>\n",
              "    <tr>\n",
              "      <th>22.0</th>\n",
              "      <td>0.065574</td>\n",
              "    </tr>\n",
              "    <tr>\n",
              "      <th>27.0</th>\n",
              "      <td>0.057377</td>\n",
              "    </tr>\n",
              "    <tr>\n",
              "      <th>29.0</th>\n",
              "      <td>0.049180</td>\n",
              "    </tr>\n",
              "    <tr>\n",
              "      <th>21.0</th>\n",
              "      <td>0.040984</td>\n",
              "    </tr>\n",
              "    <tr>\n",
              "      <th>30.0</th>\n",
              "      <td>0.036885</td>\n",
              "    </tr>\n",
              "    <tr>\n",
              "      <th>33.0</th>\n",
              "      <td>0.032787</td>\n",
              "    </tr>\n",
              "    <tr>\n",
              "      <th>20.0</th>\n",
              "      <td>0.028689</td>\n",
              "    </tr>\n",
              "    <tr>\n",
              "      <th>32.0</th>\n",
              "      <td>0.028689</td>\n",
              "    </tr>\n",
              "    <tr>\n",
              "      <th>34.0</th>\n",
              "      <td>0.028689</td>\n",
              "    </tr>\n",
              "    <tr>\n",
              "      <th>31.0</th>\n",
              "      <td>0.028689</td>\n",
              "    </tr>\n",
              "    <tr>\n",
              "      <th>37.0</th>\n",
              "      <td>0.024590</td>\n",
              "    </tr>\n",
              "    <tr>\n",
              "      <th>-1.0</th>\n",
              "      <td>0.020492</td>\n",
              "    </tr>\n",
              "    <tr>\n",
              "      <th>40.0</th>\n",
              "      <td>0.016393</td>\n",
              "    </tr>\n",
              "    <tr>\n",
              "      <th>38.0</th>\n",
              "      <td>0.012295</td>\n",
              "    </tr>\n",
              "    <tr>\n",
              "      <th>44.0</th>\n",
              "      <td>0.008197</td>\n",
              "    </tr>\n",
              "    <tr>\n",
              "      <th>1.0</th>\n",
              "      <td>0.004098</td>\n",
              "    </tr>\n",
              "    <tr>\n",
              "      <th>19.0</th>\n",
              "      <td>0.004098</td>\n",
              "    </tr>\n",
              "    <tr>\n",
              "      <th>18.0</th>\n",
              "      <td>0.004098</td>\n",
              "    </tr>\n",
              "    <tr>\n",
              "      <th>46.0</th>\n",
              "      <td>0.004098</td>\n",
              "    </tr>\n",
              "    <tr>\n",
              "      <th>43.0</th>\n",
              "      <td>0.004098</td>\n",
              "    </tr>\n",
              "    <tr>\n",
              "      <th>50.0</th>\n",
              "      <td>0.004098</td>\n",
              "    </tr>\n",
              "    <tr>\n",
              "      <th>39.0</th>\n",
              "      <td>0.004098</td>\n",
              "    </tr>\n",
              "    <tr>\n",
              "      <th>48.0</th>\n",
              "      <td>0.004098</td>\n",
              "    </tr>\n",
              "    <tr>\n",
              "      <th>0.0</th>\n",
              "      <td>0.004098</td>\n",
              "    </tr>\n",
              "    <tr>\n",
              "      <th>45.0</th>\n",
              "      <td>0.004098</td>\n",
              "    </tr>\n",
              "    <tr>\n",
              "      <th>35.0</th>\n",
              "      <td>0.004098</td>\n",
              "    </tr>\n",
              "  </tbody>\n",
              "</table>\n",
              "</div>"
            ],
            "text/plain": [
              "            age\n",
              " 24.0  0.110656\n",
              " 23.0  0.106557\n",
              " 25.0  0.098361\n",
              " 26.0  0.086066\n",
              " 28.0  0.073770\n",
              " 22.0  0.065574\n",
              " 27.0  0.057377\n",
              " 29.0  0.049180\n",
              " 21.0  0.040984\n",
              " 30.0  0.036885\n",
              " 33.0  0.032787\n",
              " 20.0  0.028689\n",
              " 32.0  0.028689\n",
              " 34.0  0.028689\n",
              " 31.0  0.028689\n",
              " 37.0  0.024590\n",
              "-1.0   0.020492\n",
              " 40.0  0.016393\n",
              " 38.0  0.012295\n",
              " 44.0  0.008197\n",
              " 1.0   0.004098\n",
              " 19.0  0.004098\n",
              " 18.0  0.004098\n",
              " 46.0  0.004098\n",
              " 43.0  0.004098\n",
              " 50.0  0.004098\n",
              " 39.0  0.004098\n",
              " 48.0  0.004098\n",
              " 0.0   0.004098\n",
              " 45.0  0.004098\n",
              " 35.0  0.004098"
            ]
          },
          "metadata": {
            "tags": []
          },
          "execution_count": 44
        }
      ]
    },
    {
      "cell_type": "code",
      "metadata": {
        "colab": {
          "base_uri": "https://localhost:8080/",
          "height": 895
        },
        "id": "FUcsEJ3IdRdH",
        "outputId": "cd28d1ea-e273-412c-8012-d035174c860a"
      },
      "source": [
        "#Display the age frequency distribution On the Male dataset\n",
        "Male=B_male.age.value_counts(normalize=True).to_frame()\n",
        "Male"
      ],
      "execution_count": 45,
      "outputs": [
        {
          "output_type": "execute_result",
          "data": {
            "text/html": [
              "<div>\n",
              "<style scoped>\n",
              "    .dataframe tbody tr th:only-of-type {\n",
              "        vertical-align: middle;\n",
              "    }\n",
              "\n",
              "    .dataframe tbody tr th {\n",
              "        vertical-align: top;\n",
              "    }\n",
              "\n",
              "    .dataframe thead th {\n",
              "        text-align: right;\n",
              "    }\n",
              "</style>\n",
              "<table border=\"1\" class=\"dataframe\">\n",
              "  <thead>\n",
              "    <tr style=\"text-align: right;\">\n",
              "      <th></th>\n",
              "      <th>age</th>\n",
              "    </tr>\n",
              "  </thead>\n",
              "  <tbody>\n",
              "    <tr>\n",
              "      <th>24.0</th>\n",
              "      <td>0.120603</td>\n",
              "    </tr>\n",
              "    <tr>\n",
              "      <th>23.0</th>\n",
              "      <td>0.105528</td>\n",
              "    </tr>\n",
              "    <tr>\n",
              "      <th>25.0</th>\n",
              "      <td>0.105528</td>\n",
              "    </tr>\n",
              "    <tr>\n",
              "      <th>26.0</th>\n",
              "      <td>0.075377</td>\n",
              "    </tr>\n",
              "    <tr>\n",
              "      <th>28.0</th>\n",
              "      <td>0.075377</td>\n",
              "    </tr>\n",
              "    <tr>\n",
              "      <th>27.0</th>\n",
              "      <td>0.060302</td>\n",
              "    </tr>\n",
              "    <tr>\n",
              "      <th>29.0</th>\n",
              "      <td>0.050251</td>\n",
              "    </tr>\n",
              "    <tr>\n",
              "      <th>30.0</th>\n",
              "      <td>0.045226</td>\n",
              "    </tr>\n",
              "    <tr>\n",
              "      <th>33.0</th>\n",
              "      <td>0.040201</td>\n",
              "    </tr>\n",
              "    <tr>\n",
              "      <th>22.0</th>\n",
              "      <td>0.040201</td>\n",
              "    </tr>\n",
              "    <tr>\n",
              "      <th>21.0</th>\n",
              "      <td>0.035176</td>\n",
              "    </tr>\n",
              "    <tr>\n",
              "      <th>31.0</th>\n",
              "      <td>0.030151</td>\n",
              "    </tr>\n",
              "    <tr>\n",
              "      <th>20.0</th>\n",
              "      <td>0.030151</td>\n",
              "    </tr>\n",
              "    <tr>\n",
              "      <th>34.0</th>\n",
              "      <td>0.030151</td>\n",
              "    </tr>\n",
              "    <tr>\n",
              "      <th>32.0</th>\n",
              "      <td>0.025126</td>\n",
              "    </tr>\n",
              "    <tr>\n",
              "      <th>37.0</th>\n",
              "      <td>0.025126</td>\n",
              "    </tr>\n",
              "    <tr>\n",
              "      <th>-1.0</th>\n",
              "      <td>0.020101</td>\n",
              "    </tr>\n",
              "    <tr>\n",
              "      <th>40.0</th>\n",
              "      <td>0.020101</td>\n",
              "    </tr>\n",
              "    <tr>\n",
              "      <th>38.0</th>\n",
              "      <td>0.015075</td>\n",
              "    </tr>\n",
              "    <tr>\n",
              "      <th>44.0</th>\n",
              "      <td>0.010050</td>\n",
              "    </tr>\n",
              "    <tr>\n",
              "      <th>0.0</th>\n",
              "      <td>0.005025</td>\n",
              "    </tr>\n",
              "    <tr>\n",
              "      <th>19.0</th>\n",
              "      <td>0.005025</td>\n",
              "    </tr>\n",
              "    <tr>\n",
              "      <th>18.0</th>\n",
              "      <td>0.005025</td>\n",
              "    </tr>\n",
              "    <tr>\n",
              "      <th>46.0</th>\n",
              "      <td>0.005025</td>\n",
              "    </tr>\n",
              "    <tr>\n",
              "      <th>50.0</th>\n",
              "      <td>0.005025</td>\n",
              "    </tr>\n",
              "    <tr>\n",
              "      <th>39.0</th>\n",
              "      <td>0.005025</td>\n",
              "    </tr>\n",
              "    <tr>\n",
              "      <th>48.0</th>\n",
              "      <td>0.005025</td>\n",
              "    </tr>\n",
              "    <tr>\n",
              "      <th>35.0</th>\n",
              "      <td>0.005025</td>\n",
              "    </tr>\n",
              "  </tbody>\n",
              "</table>\n",
              "</div>"
            ],
            "text/plain": [
              "            age\n",
              " 24.0  0.120603\n",
              " 23.0  0.105528\n",
              " 25.0  0.105528\n",
              " 26.0  0.075377\n",
              " 28.0  0.075377\n",
              " 27.0  0.060302\n",
              " 29.0  0.050251\n",
              " 30.0  0.045226\n",
              " 33.0  0.040201\n",
              " 22.0  0.040201\n",
              " 21.0  0.035176\n",
              " 31.0  0.030151\n",
              " 20.0  0.030151\n",
              " 34.0  0.030151\n",
              " 32.0  0.025126\n",
              " 37.0  0.025126\n",
              "-1.0   0.020101\n",
              " 40.0  0.020101\n",
              " 38.0  0.015075\n",
              " 44.0  0.010050\n",
              " 0.0   0.005025\n",
              " 19.0  0.005025\n",
              " 18.0  0.005025\n",
              " 46.0  0.005025\n",
              " 50.0  0.005025\n",
              " 39.0  0.005025\n",
              " 48.0  0.005025\n",
              " 35.0  0.005025"
            ]
          },
          "metadata": {
            "tags": []
          },
          "execution_count": 45
        }
      ]
    },
    {
      "cell_type": "code",
      "metadata": {
        "colab": {
          "base_uri": "https://localhost:8080/",
          "height": 592
        },
        "id": "8Bsgy6Hwf8AD",
        "outputId": "fc8a486a-8536-40c0-d2e2-52549d6939d5"
      },
      "source": [
        "#Display the age frequency distribution On the female dataset\n",
        "female=B_female.age.value_counts(normalize=True).to_frame()\n",
        "female"
      ],
      "execution_count": 46,
      "outputs": [
        {
          "output_type": "execute_result",
          "data": {
            "text/html": [
              "<div>\n",
              "<style scoped>\n",
              "    .dataframe tbody tr th:only-of-type {\n",
              "        vertical-align: middle;\n",
              "    }\n",
              "\n",
              "    .dataframe tbody tr th {\n",
              "        vertical-align: top;\n",
              "    }\n",
              "\n",
              "    .dataframe thead th {\n",
              "        text-align: right;\n",
              "    }\n",
              "</style>\n",
              "<table border=\"1\" class=\"dataframe\">\n",
              "  <thead>\n",
              "    <tr style=\"text-align: right;\">\n",
              "      <th></th>\n",
              "      <th>age</th>\n",
              "    </tr>\n",
              "  </thead>\n",
              "  <tbody>\n",
              "    <tr>\n",
              "      <th>22.0</th>\n",
              "      <td>0.177778</td>\n",
              "    </tr>\n",
              "    <tr>\n",
              "      <th>26.0</th>\n",
              "      <td>0.133333</td>\n",
              "    </tr>\n",
              "    <tr>\n",
              "      <th>23.0</th>\n",
              "      <td>0.111111</td>\n",
              "    </tr>\n",
              "    <tr>\n",
              "      <th>24.0</th>\n",
              "      <td>0.066667</td>\n",
              "    </tr>\n",
              "    <tr>\n",
              "      <th>28.0</th>\n",
              "      <td>0.066667</td>\n",
              "    </tr>\n",
              "    <tr>\n",
              "      <th>21.0</th>\n",
              "      <td>0.066667</td>\n",
              "    </tr>\n",
              "    <tr>\n",
              "      <th>25.0</th>\n",
              "      <td>0.066667</td>\n",
              "    </tr>\n",
              "    <tr>\n",
              "      <th>32.0</th>\n",
              "      <td>0.044444</td>\n",
              "    </tr>\n",
              "    <tr>\n",
              "      <th>29.0</th>\n",
              "      <td>0.044444</td>\n",
              "    </tr>\n",
              "    <tr>\n",
              "      <th>27.0</th>\n",
              "      <td>0.044444</td>\n",
              "    </tr>\n",
              "    <tr>\n",
              "      <th>43.0</th>\n",
              "      <td>0.022222</td>\n",
              "    </tr>\n",
              "    <tr>\n",
              "      <th>-1.0</th>\n",
              "      <td>0.022222</td>\n",
              "    </tr>\n",
              "    <tr>\n",
              "      <th>1.0</th>\n",
              "      <td>0.022222</td>\n",
              "    </tr>\n",
              "    <tr>\n",
              "      <th>31.0</th>\n",
              "      <td>0.022222</td>\n",
              "    </tr>\n",
              "    <tr>\n",
              "      <th>34.0</th>\n",
              "      <td>0.022222</td>\n",
              "    </tr>\n",
              "    <tr>\n",
              "      <th>37.0</th>\n",
              "      <td>0.022222</td>\n",
              "    </tr>\n",
              "    <tr>\n",
              "      <th>45.0</th>\n",
              "      <td>0.022222</td>\n",
              "    </tr>\n",
              "    <tr>\n",
              "      <th>20.0</th>\n",
              "      <td>0.022222</td>\n",
              "    </tr>\n",
              "  </tbody>\n",
              "</table>\n",
              "</div>"
            ],
            "text/plain": [
              "            age\n",
              " 22.0  0.177778\n",
              " 26.0  0.133333\n",
              " 23.0  0.111111\n",
              " 24.0  0.066667\n",
              " 28.0  0.066667\n",
              " 21.0  0.066667\n",
              " 25.0  0.066667\n",
              " 32.0  0.044444\n",
              " 29.0  0.044444\n",
              " 27.0  0.044444\n",
              " 43.0  0.022222\n",
              "-1.0   0.022222\n",
              " 1.0   0.022222\n",
              " 31.0  0.022222\n",
              " 34.0  0.022222\n",
              " 37.0  0.022222\n",
              " 45.0  0.022222\n",
              " 20.0  0.022222"
            ]
          },
          "metadata": {
            "tags": []
          },
          "execution_count": 46
        }
      ]
    },
    {
      "cell_type": "markdown",
      "metadata": {
        "id": "1iEAyGb9jQMU"
      },
      "source": [
        "### 4. Can we say that the average age (24 years old) of the observations can be considered as the average age of the population likely to participate in this bootcamp. Justify your answer"
      ]
    },
    {
      "cell_type": "code",
      "metadata": {
        "colab": {
          "base_uri": "https://localhost:8080/",
          "height": 948
        },
        "id": "9TVVJTj6HvKl",
        "outputId": "d1366d4a-aed0-47a3-bd71-6a7636143cf4"
      },
      "source": [
        "#Create a dataset who everyone had payed\n",
        "z=result7[result7['payed']=='Yes']\n",
        "z"
      ],
      "execution_count": 47,
      "outputs": [
        {
          "output_type": "execute_result",
          "data": {
            "text/html": [
              "<div>\n",
              "<style scoped>\n",
              "    .dataframe tbody tr th:only-of-type {\n",
              "        vertical-align: middle;\n",
              "    }\n",
              "\n",
              "    .dataframe tbody tr th {\n",
              "        vertical-align: top;\n",
              "    }\n",
              "\n",
              "    .dataframe thead th {\n",
              "        text-align: right;\n",
              "    }\n",
              "</style>\n",
              "<table border=\"1\" class=\"dataframe\">\n",
              "  <thead>\n",
              "    <tr style=\"text-align: right;\">\n",
              "      <th></th>\n",
              "      <th>gender</th>\n",
              "      <th>Application_Date</th>\n",
              "      <th>education_level</th>\n",
              "      <th>formal_sector_job</th>\n",
              "      <th>have_computer_home</th>\n",
              "      <th>internet_at_home</th>\n",
              "      <th>communication_channel</th>\n",
              "      <th>Bootcamp_Interest</th>\n",
              "      <th>quest_id</th>\n",
              "      <th>Enroll_Date</th>\n",
              "      <th>is_enroll</th>\n",
              "      <th>payed</th>\n",
              "      <th>Accounting</th>\n",
              "      <th>Computer Science</th>\n",
              "      <th>Economics</th>\n",
              "      <th>Electrical Engineering</th>\n",
              "      <th>Law</th>\n",
              "      <th>Management</th>\n",
              "      <th>Medicine</th>\n",
              "      <th>Statistics</th>\n",
              "      <th>Others_Study_Domain</th>\n",
              "      <th>Bash</th>\n",
              "      <th>Excel</th>\n",
              "      <th>Git</th>\n",
              "      <th>Java</th>\n",
              "      <th>JavaScript</th>\n",
              "      <th>PHP</th>\n",
              "      <th>PowerBI or Tableau</th>\n",
              "      <th>Python</th>\n",
              "      <th>R</th>\n",
              "      <th>SQL</th>\n",
              "      <th>VBA</th>\n",
              "      <th>Others_Technologies</th>\n",
              "      <th>commune_name</th>\n",
              "      <th>age</th>\n",
              "      <th>payment_date</th>\n",
              "    </tr>\n",
              "  </thead>\n",
              "  <tbody>\n",
              "    <tr>\n",
              "      <th>2</th>\n",
              "      <td>male</td>\n",
              "      <td>2021-02-16 16:56:30.579504</td>\n",
              "      <td>Bachelors (bacc +4)</td>\n",
              "      <td>unknown</td>\n",
              "      <td>Yes</td>\n",
              "      <td>Yes</td>\n",
              "      <td>Friend</td>\n",
              "      <td>Improving my data analysis skills</td>\n",
              "      <td>905e2608-ce95-11eb-809f-7c67a234f601</td>\n",
              "      <td>2021-02-20T21:20:37.450Z</td>\n",
              "      <td>Yes</td>\n",
              "      <td>Yes</td>\n",
              "      <td>NaN</td>\n",
              "      <td>NaN</td>\n",
              "      <td>NaN</td>\n",
              "      <td>NaN</td>\n",
              "      <td>NaN</td>\n",
              "      <td>NaN</td>\n",
              "      <td>NaN</td>\n",
              "      <td>NaN</td>\n",
              "      <td>NaN</td>\n",
              "      <td>1.0</td>\n",
              "      <td>1.0</td>\n",
              "      <td>1.0</td>\n",
              "      <td>1.0</td>\n",
              "      <td>1.0</td>\n",
              "      <td>0.0</td>\n",
              "      <td>0.0</td>\n",
              "      <td>1.0</td>\n",
              "      <td>0.0</td>\n",
              "      <td>1.0</td>\n",
              "      <td>0.0</td>\n",
              "      <td>0.0</td>\n",
              "      <td>Port-au-Prince</td>\n",
              "      <td>24.0</td>\n",
              "      <td>2021-03-03 23:00:11.974</td>\n",
              "    </tr>\n",
              "    <tr>\n",
              "      <th>6</th>\n",
              "      <td>female</td>\n",
              "      <td>2021-02-16 20:06:17.885833</td>\n",
              "      <td>Masters</td>\n",
              "      <td>Yes</td>\n",
              "      <td>Yes</td>\n",
              "      <td>Yes</td>\n",
              "      <td>WhatsApp</td>\n",
              "      <td>Improving my data analysis skills</td>\n",
              "      <td>905ec1ec-ce95-11eb-8136-7c67a234f601</td>\n",
              "      <td>2021-02-16T20:16:35.911Z</td>\n",
              "      <td>Yes</td>\n",
              "      <td>Yes</td>\n",
              "      <td>0.0</td>\n",
              "      <td>1.0</td>\n",
              "      <td>0.0</td>\n",
              "      <td>0.0</td>\n",
              "      <td>0.0</td>\n",
              "      <td>0.0</td>\n",
              "      <td>0.0</td>\n",
              "      <td>0.0</td>\n",
              "      <td>0.0</td>\n",
              "      <td>0.0</td>\n",
              "      <td>1.0</td>\n",
              "      <td>0.0</td>\n",
              "      <td>1.0</td>\n",
              "      <td>0.0</td>\n",
              "      <td>1.0</td>\n",
              "      <td>0.0</td>\n",
              "      <td>1.0</td>\n",
              "      <td>1.0</td>\n",
              "      <td>1.0</td>\n",
              "      <td>0.0</td>\n",
              "      <td>0.0</td>\n",
              "      <td>Port-au-Prince</td>\n",
              "      <td>32.0</td>\n",
              "      <td>2021-02-22 19:16:35.371</td>\n",
              "    </tr>\n",
              "    <tr>\n",
              "      <th>7</th>\n",
              "      <td>female</td>\n",
              "      <td>2021-02-16 22:54:19.490806</td>\n",
              "      <td>Bachelors (bacc +4)</td>\n",
              "      <td>unknown</td>\n",
              "      <td>Yes</td>\n",
              "      <td>Yes</td>\n",
              "      <td>WhatsApp</td>\n",
              "      <td>Improving my data analysis skills</td>\n",
              "      <td>905ec1ed-ce95-11eb-829c-7c67a234f601</td>\n",
              "      <td>2021-02-24T16:53:16.967Z</td>\n",
              "      <td>Yes</td>\n",
              "      <td>Yes</td>\n",
              "      <td>0.0</td>\n",
              "      <td>1.0</td>\n",
              "      <td>0.0</td>\n",
              "      <td>0.0</td>\n",
              "      <td>0.0</td>\n",
              "      <td>0.0</td>\n",
              "      <td>0.0</td>\n",
              "      <td>0.0</td>\n",
              "      <td>0.0</td>\n",
              "      <td>0.0</td>\n",
              "      <td>1.0</td>\n",
              "      <td>0.0</td>\n",
              "      <td>1.0</td>\n",
              "      <td>1.0</td>\n",
              "      <td>1.0</td>\n",
              "      <td>0.0</td>\n",
              "      <td>0.0</td>\n",
              "      <td>0.0</td>\n",
              "      <td>0.0</td>\n",
              "      <td>0.0</td>\n",
              "      <td>0.0</td>\n",
              "      <td>Port-au-Prince</td>\n",
              "      <td>24.0</td>\n",
              "      <td>2021-02-24 16:53:17.136</td>\n",
              "    </tr>\n",
              "    <tr>\n",
              "      <th>16</th>\n",
              "      <td>female</td>\n",
              "      <td>2021-02-17 15:07:25.936848</td>\n",
              "      <td>Other</td>\n",
              "      <td>unknown</td>\n",
              "      <td>Yes</td>\n",
              "      <td>Yes</td>\n",
              "      <td>Facebook</td>\n",
              "      <td>Improving my data analysis skills</td>\n",
              "      <td>905f5dc1-ce95-11eb-bfa7-7c67a234f601</td>\n",
              "      <td>2021-02-17T15:14:40.939Z</td>\n",
              "      <td>Yes</td>\n",
              "      <td>Yes</td>\n",
              "      <td>0.0</td>\n",
              "      <td>0.0</td>\n",
              "      <td>1.0</td>\n",
              "      <td>0.0</td>\n",
              "      <td>0.0</td>\n",
              "      <td>0.0</td>\n",
              "      <td>0.0</td>\n",
              "      <td>0.0</td>\n",
              "      <td>0.0</td>\n",
              "      <td>0.0</td>\n",
              "      <td>0.0</td>\n",
              "      <td>0.0</td>\n",
              "      <td>1.0</td>\n",
              "      <td>0.0</td>\n",
              "      <td>0.0</td>\n",
              "      <td>0.0</td>\n",
              "      <td>1.0</td>\n",
              "      <td>1.0</td>\n",
              "      <td>0.0</td>\n",
              "      <td>0.0</td>\n",
              "      <td>0.0</td>\n",
              "      <td>Port-au-Prince</td>\n",
              "      <td>22.0</td>\n",
              "      <td>2021-02-18 14:45:02.292</td>\n",
              "    </tr>\n",
              "    <tr>\n",
              "      <th>26</th>\n",
              "      <td>male</td>\n",
              "      <td>2021-02-19 16:36:50.278947</td>\n",
              "      <td>Bachelors (bacc +4)</td>\n",
              "      <td>unknown</td>\n",
              "      <td>Yes</td>\n",
              "      <td>No</td>\n",
              "      <td>WhatsApp</td>\n",
              "      <td>Finding a job/internship</td>\n",
              "      <td>9060477c-ce95-11eb-ace3-7c67a234f601</td>\n",
              "      <td>2021-02-23T17:22:16.055Z</td>\n",
              "      <td>Yes</td>\n",
              "      <td>Yes</td>\n",
              "      <td>0.0</td>\n",
              "      <td>1.0</td>\n",
              "      <td>0.0</td>\n",
              "      <td>0.0</td>\n",
              "      <td>0.0</td>\n",
              "      <td>0.0</td>\n",
              "      <td>0.0</td>\n",
              "      <td>0.0</td>\n",
              "      <td>0.0</td>\n",
              "      <td>0.0</td>\n",
              "      <td>1.0</td>\n",
              "      <td>0.0</td>\n",
              "      <td>0.0</td>\n",
              "      <td>0.0</td>\n",
              "      <td>0.0</td>\n",
              "      <td>0.0</td>\n",
              "      <td>0.0</td>\n",
              "      <td>0.0</td>\n",
              "      <td>1.0</td>\n",
              "      <td>0.0</td>\n",
              "      <td>0.0</td>\n",
              "      <td>Port-au-Prince</td>\n",
              "      <td>29.0</td>\n",
              "      <td>2021-03-12 14:23:11.154</td>\n",
              "    </tr>\n",
              "    <tr>\n",
              "      <th>...</th>\n",
              "      <td>...</td>\n",
              "      <td>...</td>\n",
              "      <td>...</td>\n",
              "      <td>...</td>\n",
              "      <td>...</td>\n",
              "      <td>...</td>\n",
              "      <td>...</td>\n",
              "      <td>...</td>\n",
              "      <td>...</td>\n",
              "      <td>...</td>\n",
              "      <td>...</td>\n",
              "      <td>...</td>\n",
              "      <td>...</td>\n",
              "      <td>...</td>\n",
              "      <td>...</td>\n",
              "      <td>...</td>\n",
              "      <td>...</td>\n",
              "      <td>...</td>\n",
              "      <td>...</td>\n",
              "      <td>...</td>\n",
              "      <td>...</td>\n",
              "      <td>...</td>\n",
              "      <td>...</td>\n",
              "      <td>...</td>\n",
              "      <td>...</td>\n",
              "      <td>...</td>\n",
              "      <td>...</td>\n",
              "      <td>...</td>\n",
              "      <td>...</td>\n",
              "      <td>...</td>\n",
              "      <td>...</td>\n",
              "      <td>...</td>\n",
              "      <td>...</td>\n",
              "      <td>...</td>\n",
              "      <td>...</td>\n",
              "      <td>...</td>\n",
              "    </tr>\n",
              "    <tr>\n",
              "      <th>234</th>\n",
              "      <td>male</td>\n",
              "      <td>2021-03-04 22:38:28.831351</td>\n",
              "      <td>Bachelors (bacc +4)</td>\n",
              "      <td>Yes</td>\n",
              "      <td>Yes</td>\n",
              "      <td>Yes</td>\n",
              "      <td>Friend</td>\n",
              "      <td>Improving my data analysis skills</td>\n",
              "      <td>906a79ac-ce95-11eb-9f8a-7c67a234f601</td>\n",
              "      <td>2021-03-05T21:34:14.111Z</td>\n",
              "      <td>Yes</td>\n",
              "      <td>Yes</td>\n",
              "      <td>0.0</td>\n",
              "      <td>1.0</td>\n",
              "      <td>0.0</td>\n",
              "      <td>0.0</td>\n",
              "      <td>0.0</td>\n",
              "      <td>0.0</td>\n",
              "      <td>0.0</td>\n",
              "      <td>0.0</td>\n",
              "      <td>0.0</td>\n",
              "      <td>0.0</td>\n",
              "      <td>1.0</td>\n",
              "      <td>0.0</td>\n",
              "      <td>1.0</td>\n",
              "      <td>0.0</td>\n",
              "      <td>1.0</td>\n",
              "      <td>0.0</td>\n",
              "      <td>0.0</td>\n",
              "      <td>0.0</td>\n",
              "      <td>1.0</td>\n",
              "      <td>1.0</td>\n",
              "      <td>0.0</td>\n",
              "      <td>Verrettes</td>\n",
              "      <td>35.0</td>\n",
              "      <td>2021-03-05 21:34:14.240</td>\n",
              "    </tr>\n",
              "    <tr>\n",
              "      <th>245</th>\n",
              "      <td>male</td>\n",
              "      <td>2021-03-02 18:39:19.873194</td>\n",
              "      <td>Bachelors (bacc +4)</td>\n",
              "      <td>Yes</td>\n",
              "      <td>Yes</td>\n",
              "      <td>Yes</td>\n",
              "      <td>Facebook</td>\n",
              "      <td>Improving my data analysis skills</td>\n",
              "      <td>906b3c84-ce95-11eb-8c2a-7c67a234f601</td>\n",
              "      <td>2021-03-02T18:45:26.479Z</td>\n",
              "      <td>Yes</td>\n",
              "      <td>Yes</td>\n",
              "      <td>0.0</td>\n",
              "      <td>0.0</td>\n",
              "      <td>0.0</td>\n",
              "      <td>0.0</td>\n",
              "      <td>0.0</td>\n",
              "      <td>0.0</td>\n",
              "      <td>0.0</td>\n",
              "      <td>0.0</td>\n",
              "      <td>1.0</td>\n",
              "      <td>0.0</td>\n",
              "      <td>1.0</td>\n",
              "      <td>0.0</td>\n",
              "      <td>0.0</td>\n",
              "      <td>0.0</td>\n",
              "      <td>0.0</td>\n",
              "      <td>0.0</td>\n",
              "      <td>0.0</td>\n",
              "      <td>0.0</td>\n",
              "      <td>0.0</td>\n",
              "      <td>0.0</td>\n",
              "      <td>0.0</td>\n",
              "      <td>Mirebalais</td>\n",
              "      <td>27.0</td>\n",
              "      <td>2021-03-02 18:53:20.759</td>\n",
              "    </tr>\n",
              "    <tr>\n",
              "      <th>247</th>\n",
              "      <td>male</td>\n",
              "      <td>2021-03-14 15:29:32.474015</td>\n",
              "      <td>Bachelors (bacc +4)</td>\n",
              "      <td>Yes</td>\n",
              "      <td>Yes</td>\n",
              "      <td>Yes</td>\n",
              "      <td>Friend</td>\n",
              "      <td>Improving my data analysis skills</td>\n",
              "      <td>906b3c86-ce95-11eb-b6a7-7c67a234f601</td>\n",
              "      <td>2021-03-14T15:34:39.800Z</td>\n",
              "      <td>Yes</td>\n",
              "      <td>Yes</td>\n",
              "      <td>0.0</td>\n",
              "      <td>0.0</td>\n",
              "      <td>0.0</td>\n",
              "      <td>0.0</td>\n",
              "      <td>0.0</td>\n",
              "      <td>0.0</td>\n",
              "      <td>0.0</td>\n",
              "      <td>1.0</td>\n",
              "      <td>0.0</td>\n",
              "      <td>0.0</td>\n",
              "      <td>1.0</td>\n",
              "      <td>0.0</td>\n",
              "      <td>0.0</td>\n",
              "      <td>0.0</td>\n",
              "      <td>0.0</td>\n",
              "      <td>1.0</td>\n",
              "      <td>1.0</td>\n",
              "      <td>0.0</td>\n",
              "      <td>1.0</td>\n",
              "      <td>0.0</td>\n",
              "      <td>0.0</td>\n",
              "      <td>Mirebalais</td>\n",
              "      <td>27.0</td>\n",
              "      <td>2021-03-14 15:34:35.014</td>\n",
              "    </tr>\n",
              "    <tr>\n",
              "      <th>248</th>\n",
              "      <td>male</td>\n",
              "      <td>2021-03-08 16:35:07.806100</td>\n",
              "      <td>Bachelors (bacc +4)</td>\n",
              "      <td>unknown</td>\n",
              "      <td>Yes</td>\n",
              "      <td>Yes</td>\n",
              "      <td>Facebook</td>\n",
              "      <td>Improving my data analysis skills</td>\n",
              "      <td>906b65e2-ce95-11eb-8b5c-7c67a234f601</td>\n",
              "      <td>2021-03-08T19:06:32.719Z</td>\n",
              "      <td>Yes</td>\n",
              "      <td>Yes</td>\n",
              "      <td>0.0</td>\n",
              "      <td>1.0</td>\n",
              "      <td>0.0</td>\n",
              "      <td>0.0</td>\n",
              "      <td>0.0</td>\n",
              "      <td>0.0</td>\n",
              "      <td>0.0</td>\n",
              "      <td>0.0</td>\n",
              "      <td>0.0</td>\n",
              "      <td>0.0</td>\n",
              "      <td>0.0</td>\n",
              "      <td>0.0</td>\n",
              "      <td>0.0</td>\n",
              "      <td>0.0</td>\n",
              "      <td>0.0</td>\n",
              "      <td>0.0</td>\n",
              "      <td>0.0</td>\n",
              "      <td>0.0</td>\n",
              "      <td>1.0</td>\n",
              "      <td>0.0</td>\n",
              "      <td>0.0</td>\n",
              "      <td>Ferrier</td>\n",
              "      <td>28.0</td>\n",
              "      <td>2021-03-08 19:06:32.837</td>\n",
              "    </tr>\n",
              "    <tr>\n",
              "      <th>249</th>\n",
              "      <td>male</td>\n",
              "      <td>2021-03-10 21:41:05.708748</td>\n",
              "      <td>Masters</td>\n",
              "      <td>unknown</td>\n",
              "      <td>Yes</td>\n",
              "      <td>Yes</td>\n",
              "      <td>Facebook</td>\n",
              "      <td>Improving my data analysis skills</td>\n",
              "      <td>906b65e3-ce95-11eb-a294-7c67a234f601</td>\n",
              "      <td>2021-03-14T02:16:08.736Z</td>\n",
              "      <td>Yes</td>\n",
              "      <td>Yes</td>\n",
              "      <td>0.0</td>\n",
              "      <td>0.0</td>\n",
              "      <td>0.0</td>\n",
              "      <td>0.0</td>\n",
              "      <td>0.0</td>\n",
              "      <td>0.0</td>\n",
              "      <td>0.0</td>\n",
              "      <td>0.0</td>\n",
              "      <td>1.0</td>\n",
              "      <td>0.0</td>\n",
              "      <td>1.0</td>\n",
              "      <td>0.0</td>\n",
              "      <td>0.0</td>\n",
              "      <td>0.0</td>\n",
              "      <td>0.0</td>\n",
              "      <td>0.0</td>\n",
              "      <td>0.0</td>\n",
              "      <td>1.0</td>\n",
              "      <td>0.0</td>\n",
              "      <td>0.0</td>\n",
              "      <td>0.0</td>\n",
              "      <td>Petite Rivière de Nippes</td>\n",
              "      <td>27.0</td>\n",
              "      <td>2021-03-14 02:16:08.983</td>\n",
              "    </tr>\n",
              "  </tbody>\n",
              "</table>\n",
              "<p>65 rows × 36 columns</p>\n",
              "</div>"
            ],
            "text/plain": [
              "     gender           Application_Date  ...   age            payment_date\n",
              "2      male 2021-02-16 16:56:30.579504  ...  24.0 2021-03-03 23:00:11.974\n",
              "6    female 2021-02-16 20:06:17.885833  ...  32.0 2021-02-22 19:16:35.371\n",
              "7    female 2021-02-16 22:54:19.490806  ...  24.0 2021-02-24 16:53:17.136\n",
              "16   female 2021-02-17 15:07:25.936848  ...  22.0 2021-02-18 14:45:02.292\n",
              "26     male 2021-02-19 16:36:50.278947  ...  29.0 2021-03-12 14:23:11.154\n",
              "..      ...                        ...  ...   ...                     ...\n",
              "234    male 2021-03-04 22:38:28.831351  ...  35.0 2021-03-05 21:34:14.240\n",
              "245    male 2021-03-02 18:39:19.873194  ...  27.0 2021-03-02 18:53:20.759\n",
              "247    male 2021-03-14 15:29:32.474015  ...  27.0 2021-03-14 15:34:35.014\n",
              "248    male 2021-03-08 16:35:07.806100  ...  28.0 2021-03-08 19:06:32.837\n",
              "249    male 2021-03-10 21:41:05.708748  ...  27.0 2021-03-14 02:16:08.983\n",
              "\n",
              "[65 rows x 36 columns]"
            ]
          },
          "metadata": {
            "tags": []
          },
          "execution_count": 47
        }
      ]
    },
    {
      "cell_type": "code",
      "metadata": {
        "colab": {
          "base_uri": "https://localhost:8080/"
        },
        "id": "S-Dqay39IUmU",
        "outputId": "a521d3fa-92cf-4cda-c112-b23d15ae958d"
      },
      "source": [
        "#calculate the average age of z\n",
        "w=z.age.mean()\n",
        "print(f'The average age of the population likely to participate in this bootcamp is {w} years')"
      ],
      "execution_count": 48,
      "outputs": [
        {
          "output_type": "stream",
          "text": [
            "The average age of the population likely to participate in this bootcamp is 26.612903225806452 years\n"
          ],
          "name": "stdout"
        }
      ]
    },
    {
      "cell_type": "code",
      "metadata": {
        "id": "PHtp_ie5jQMV",
        "colab": {
          "base_uri": "https://localhost:8080/"
        },
        "outputId": "6588bb00-7b9c-4166-fa2f-e20d1737dfc5"
      },
      "source": [
        "#here your codes\n",
        "if w!= 24:\n",
        "  print(\"we can not say that the average age (24 years old) of the observations can be considered as the average age of the population likely to participate in this bootcamp\")\n",
        "else:\n",
        "  print(\"we can say that the average age (24 years old) of the observations can be considered as the average age of the population likely to participate in this bootcamp\")"
      ],
      "execution_count": 49,
      "outputs": [
        {
          "output_type": "stream",
          "text": [
            "we can not say that the average age (24 years old) of the observations can be considered as the average age of the population likely to participate in this bootcamp\n"
          ],
          "name": "stdout"
        }
      ]
    },
    {
      "cell_type": "code",
      "metadata": {
        "colab": {
          "base_uri": "https://localhost:8080/"
        },
        "id": "KF1UyymdHrQy",
        "outputId": "4439f43f-57bc-4afd-83fc-f79944c84d60"
      },
      "source": [
        "# H0: Mu=24\n",
        "# H1: Mu!=24\n",
        "\n",
        "from scipy import stats\n",
        "stat, p =stats.wilcoxon(result7.age-24) \n",
        "print(\"Statistics=%.2f, p=%.2f \" % (stat, p))\n",
        "#interpretation\n",
        "alpha=0.05\n",
        "if p > alpha:\n",
        "  print('h0 mu=24( fail to reject H0)')\n",
        "else:\n",
        "  print(\"h1 mu!=24 (reject H0)\")"
      ],
      "execution_count": 144,
      "outputs": [
        {
          "output_type": "stream",
          "text": [
            "Statistics=5573.00, p=0.00 \n",
            "h1 mu!=24 (reject H0)\n"
          ],
          "name": "stdout"
        }
      ]
    },
    {
      "cell_type": "markdown",
      "metadata": {
        "id": "sGZCjG29jQMV"
      },
      "source": [
        "### 5. Calculate the average age of participants for each communication channel"
      ]
    },
    {
      "cell_type": "code",
      "metadata": {
        "id": "sgIzYSg2jQMW",
        "colab": {
          "base_uri": "https://localhost:8080/",
          "height": 381
        },
        "outputId": "fc2ebfa1-e80d-4c53-9e0e-a13a0347b1a3"
      },
      "source": [
        "#here your codes\n",
        "channels_mean_age=pd.pivot_table(result7,index=\"communication_channel\", values='age', aggfunc='mean')\n",
        "channels_mean_age"
      ],
      "execution_count": 50,
      "outputs": [
        {
          "output_type": "execute_result",
          "data": {
            "text/html": [
              "<div>\n",
              "<style scoped>\n",
              "    .dataframe tbody tr th:only-of-type {\n",
              "        vertical-align: middle;\n",
              "    }\n",
              "\n",
              "    .dataframe tbody tr th {\n",
              "        vertical-align: top;\n",
              "    }\n",
              "\n",
              "    .dataframe thead th {\n",
              "        text-align: right;\n",
              "    }\n",
              "</style>\n",
              "<table border=\"1\" class=\"dataframe\">\n",
              "  <thead>\n",
              "    <tr style=\"text-align: right;\">\n",
              "      <th></th>\n",
              "      <th>age</th>\n",
              "    </tr>\n",
              "    <tr>\n",
              "      <th>communication_channel</th>\n",
              "      <th></th>\n",
              "    </tr>\n",
              "  </thead>\n",
              "  <tbody>\n",
              "    <tr>\n",
              "      <th>Ayiti Analytics Website</th>\n",
              "      <td>27.000000</td>\n",
              "    </tr>\n",
              "    <tr>\n",
              "      <th>Bootcamp Alumni</th>\n",
              "      <td>26.285714</td>\n",
              "    </tr>\n",
              "    <tr>\n",
              "      <th>ESIH</th>\n",
              "      <td>23.352941</td>\n",
              "    </tr>\n",
              "    <tr>\n",
              "      <th>Facebook</th>\n",
              "      <td>26.025641</td>\n",
              "    </tr>\n",
              "    <tr>\n",
              "      <th>Friend</th>\n",
              "      <td>26.575758</td>\n",
              "    </tr>\n",
              "    <tr>\n",
              "      <th>Instagram</th>\n",
              "      <td>24.400000</td>\n",
              "    </tr>\n",
              "    <tr>\n",
              "      <th>LinkedIn</th>\n",
              "      <td>30.214286</td>\n",
              "    </tr>\n",
              "    <tr>\n",
              "      <th>WhatsApp</th>\n",
              "      <td>26.531250</td>\n",
              "    </tr>\n",
              "    <tr>\n",
              "      <th>other</th>\n",
              "      <td>28.444444</td>\n",
              "    </tr>\n",
              "    <tr>\n",
              "      <th>unknown</th>\n",
              "      <td>22.000000</td>\n",
              "    </tr>\n",
              "  </tbody>\n",
              "</table>\n",
              "</div>"
            ],
            "text/plain": [
              "                               age\n",
              "communication_channel             \n",
              "Ayiti Analytics Website  27.000000\n",
              "Bootcamp Alumni          26.285714\n",
              "ESIH                     23.352941\n",
              "Facebook                 26.025641\n",
              "Friend                   26.575758\n",
              "Instagram                24.400000\n",
              "LinkedIn                 30.214286\n",
              "WhatsApp                 26.531250\n",
              "other                    28.444444\n",
              "unknown                  22.000000"
            ]
          },
          "metadata": {
            "tags": []
          },
          "execution_count": 50
        }
      ]
    },
    {
      "cell_type": "markdown",
      "metadata": {
        "id": "OddvaY3ajQMW"
      },
      "source": [
        "### 6. Display an age boxplot for each communication channel"
      ]
    },
    {
      "cell_type": "code",
      "metadata": {
        "id": "qBUxizcsjQMW",
        "colab": {
          "base_uri": "https://localhost:8080/",
          "height": 622
        },
        "outputId": "ddede352-95de-41a9-cbb1-55d969459d92"
      },
      "source": [
        "#here your codes\n",
        "plt.figure(figsize=(15,10))\n",
        "sns.boxplot(x=result7['communication_channel'],y=result7['age'])\n",
        "plt.title('Age distribution by communication channel')\n",
        "plt.show()"
      ],
      "execution_count": 51,
      "outputs": [
        {
          "output_type": "display_data",
          "data": {
            "image/png": "[encoded data removed]",
            "text/plain": [
              "<Figure size 1080x720 with 1 Axes>"
            ]
          },
          "metadata": {
            "tags": [],
            "needs_background": "light"
          }
        }
      ]
    },
    {
      "cell_type": "markdown",
      "metadata": {
        "id": "5Kz8aYo3jQMX"
      },
      "source": [
        "### 7 .Is there a significant age difference between these groups"
      ]
    },
    {
      "cell_type": "code",
      "metadata": {
        "colab": {
          "base_uri": "https://localhost:8080/"
        },
        "id": "TB9m3Tb3xq0u",
        "outputId": "e830b4e0-aa3c-4695-d915-dc75f5642078"
      },
      "source": [
        "#install missing package\n",
        "!pip install researchpy\n",
        "import researchpy as rp\n",
        "import scipy.stats as stats"
      ],
      "execution_count": 52,
      "outputs": [
        {
          "output_type": "stream",
          "text": [
            "Requirement already satisfied: researchpy in /usr/local/lib/python3.7/dist-packages (0.3.2)\n",
            "Requirement already satisfied: numpy in /usr/local/lib/python3.7/dist-packages (from researchpy) (1.19.5)\n",
            "Requirement already satisfied: statsmodels in /usr/local/lib/python3.7/dist-packages (from researchpy) (0.10.2)\n",
            "Requirement already satisfied: patsy in /usr/local/lib/python3.7/dist-packages (from researchpy) (0.5.1)\n",
            "Requirement already satisfied: pandas in /usr/local/lib/python3.7/dist-packages (from researchpy) (1.1.5)\n",
            "Requirement already satisfied: scipy in /usr/local/lib/python3.7/dist-packages (from researchpy) (1.4.1)\n",
            "Requirement already satisfied: pytz>=2017.2 in /usr/local/lib/python3.7/dist-packages (from pandas->researchpy) (2018.9)\n",
            "Requirement already satisfied: python-dateutil>=2.7.3 in /usr/local/lib/python3.7/dist-packages (from pandas->researchpy) (2.8.1)\n",
            "Requirement already satisfied: six>=1.5 in /usr/local/lib/python3.7/dist-packages (from python-dateutil>=2.7.3->pandas->researchpy) (1.15.0)\n"
          ],
          "name": "stdout"
        },
        {
          "output_type": "stream",
          "text": [
            "/usr/local/lib/python3.7/dist-packages/statsmodels/tools/_testing.py:19: FutureWarning: pandas.util.testing is deprecated. Use the functions in the public API at pandas.testing instead.\n",
            "  import pandas.util.testing as tm\n"
          ],
          "name": "stderr"
        }
      ]
    },
    {
      "cell_type": "code",
      "metadata": {
        "id": "JNhFd5Xw0zYy"
      },
      "source": [
        "result7['age']=(result7.age.fillna(result7.age.mean()))"
      ],
      "execution_count": 53,
      "outputs": []
    },
    {
      "cell_type": "code",
      "metadata": {
        "colab": {
          "base_uri": "https://localhost:8080/"
        },
        "id": "_-m3XOhBu6rf",
        "outputId": "c9ef23cf-ed71-4463-e2be-cf0a5c60ed66"
      },
      "source": [
        "#Test\n",
        "summary, results = rp.ttest(group1= result7['age'][result7['communication_channel'] == 'Ayiti Analytics Website'], group1_name= \"Ayiti Analytics Website\",\n",
        "                            group2= result7['age'][result7['communication_channel'] == 'Friend'], group2_name= \"Friend\",)\n",
        "\"\"\"\n",
        "                            group3= result7['age'][result7['communication_channel'] == 'Bootcamp Alumni'], group3_name= \"Bootcamp Alumni\",\n",
        "                            group4= result7['age'][result7['communication_channel'] == 'ESIH'], group4_name= \"ESIH\",\n",
        "                            group5= result7['age'][result7['communication_channel'] == 'Facebook'], group5_name= \"Facebook\",\n",
        "                            group6= result7['age'][result7['communication_channel'] == 'Instagram'], group6_name= \"Instagram\",\n",
        "                            group7= result7['age'][result7['communication_channel'] == 'LinkedIn'], group7_name= \"LinkedIn\",\n",
        "                            group8= result7['age'][result7['communication_channel'] == 'WhatsApp'], group8_name= \"WhatsApp\",\n",
        "                            group9= result7['age'][result7['communication_channel'] == 'other'], group9_name= \"other\",\n",
        "                            group10= result7['age'][result7['communication_channel'] == 'unknown'], group10_name= \"unknown\")\n",
        "\"\"\"\n",
        "print(summary)"
      ],
      "execution_count": 54,
      "outputs": [
        {
          "output_type": "stream",
          "text": [
            "                  Variable     N       Mean  ...        SE  95% Conf.   Interval\n",
            "0  Ayiti Analytics Website  15.0  27.000000  ...  1.473577  23.839492  30.160508\n",
            "1                   Friend  67.0  26.574260  ...  0.778227  25.020479  28.128041\n",
            "2                 combined  82.0  26.652139  ...  0.687168  25.284890  28.019388\n",
            "\n",
            "[3 rows x 7 columns]\n"
          ],
          "name": "stdout"
        }
      ]
    },
    {
      "cell_type": "code",
      "metadata": {
        "colab": {
          "base_uri": "https://localhost:8080/"
        },
        "id": "wvBxW2YpxjjZ",
        "outputId": "da8e0b95-1824-4f82-a7cb-821ea610245b"
      },
      "source": [
        "print(results)"
      ],
      "execution_count": 55,
      "outputs": [
        {
          "output_type": "stream",
          "text": [
            "                                 Independent t-test  results\n",
            "0  Difference (Ayiti Analytics Website - Friend) =    0.4257\n",
            "1                             Degrees of freedom =   80.0000\n",
            "2                                              t =    0.2381\n",
            "3                          Two side test p value =    0.8124\n",
            "4                         Difference < 0 p value =    0.5938\n",
            "5                         Difference > 0 p value =    0.4062\n",
            "6                                      Cohen's d =    0.0680\n",
            "7                                      Hedge's g =    0.0674\n",
            "8                                  Glass's delta =    0.0746\n",
            "9                                    Pearson's r =    0.0266\n"
          ],
          "name": "stdout"
        }
      ]
    },
    {
      "cell_type": "code",
      "metadata": {
        "colab": {
          "base_uri": "https://localhost:8080/"
        },
        "id": "jQRAwuwxy8Ee",
        "outputId": "ccb12038-413f-469a-ce6f-84ad14681050"
      },
      "source": [
        "#Independent T-Test\n",
        "stats.ttest_ind(result7['age'][result7['communication_channel'] == 'Ayiti Analytics Website'],\n",
        "                            result7['age'][result7['communication_channel'] == 'Friend'])\n"
      ],
      "execution_count": 56,
      "outputs": [
        {
          "output_type": "execute_result",
          "data": {
            "text/plain": [
              "Ttest_indResult(statistic=0.23812617012268827, pvalue=0.8123921001073953)"
            ]
          },
          "metadata": {
            "tags": []
          },
          "execution_count": 56
        }
      ]
    },
    {
      "cell_type": "code",
      "metadata": {
        "colab": {
          "base_uri": "https://localhost:8080/"
        },
        "id": "If3pbrn00bwH",
        "outputId": "ea26030a-365d-4c78-c22a-27f5a0caa939"
      },
      "source": [
        "print(\"There is any statistically significant difference in the average age between Ayiti_Analytics_Website  and Friend\")"
      ],
      "execution_count": 57,
      "outputs": [
        {
          "output_type": "stream",
          "text": [
            "There is any statistically significant difference in the average age between Ayiti_Analytics_Website  and Friend\n"
          ],
          "name": "stdout"
        }
      ]
    },
    {
      "cell_type": "code",
      "metadata": {
        "colab": {
          "base_uri": "https://localhost:8080/"
        },
        "id": "LeDiQiJA2gsv",
        "outputId": "c6dfec92-baf6-4fcc-b37d-58af2a853c2f"
      },
      "source": [
        "#Independant test between Friend and Alumni\n",
        "summary, results = rp.ttest(group1= result7['age'][result7['communication_channel'] == 'Friend'], group1_name= \"Friend\",\n",
        "                            group2= result7['age'][result7['communication_channel'] == 'Bootcamp Alumni'], group2_name= \"Bootcamp Alumni\")\n",
        "print(summary)\n",
        "print(results)\n",
        "print(\"There is any statistically significant difference in the average age between Bootcamp Alumni  and Friend\")"
      ],
      "execution_count": 58,
      "outputs": [
        {
          "output_type": "stream",
          "text": [
            "          Variable     N       Mean        SD        SE  95% Conf.   Interval\n",
            "0           Friend  67.0  26.574260  6.370066  0.778227  25.020479  28.128041\n",
            "1  Bootcamp Alumni  14.0  26.285714  2.920184  0.780452  24.599650  27.971778\n",
            "2         combined  81.0  26.524388  5.905456  0.656162  25.218584  27.830191\n",
            "                         Independent t-test  results\n",
            "0  Difference (Friend - Bootcamp Alumni) =    0.2885\n",
            "1                     Degrees of freedom =   79.0000\n",
            "2                                      t =    0.1653\n",
            "3                  Two side test p value =    0.8692\n",
            "4                 Difference < 0 p value =    0.5654\n",
            "5                 Difference > 0 p value =    0.4346\n",
            "6                              Cohen's d =    0.0486\n",
            "7                              Hedge's g =    0.0481\n",
            "8                          Glass's delta =    0.0453\n",
            "9                            Pearson's r =    0.0186\n",
            "There is any statistically significant difference in the average age between Bootcamp Alumni  and Friend\n"
          ],
          "name": "stdout"
        }
      ]
    },
    {
      "cell_type": "code",
      "metadata": {
        "colab": {
          "base_uri": "https://localhost:8080/"
        },
        "id": "1f8mVi2Z3tIu",
        "outputId": "cbfe4bf1-e31f-42f4-feed-15843014847e"
      },
      "source": [
        "#Independant test between Alumni and ESIH\n",
        "summary, results = rp.ttest(group1= result7['age'][result7['communication_channel'] == 'ESIH'], group1_name= \"ESIH\",\n",
        "                            group2= result7['age'][result7['communication_channel'] == 'Bootcamp Alumni'], group2_name= \"Bootcamp Alumni\")\n",
        "print(summary)\n",
        "print(results)\n",
        "print(\"There is any statistically significant difference in the average age between Bootcamp Alumni  and ESIH\")"
      ],
      "execution_count": 59,
      "outputs": [
        {
          "output_type": "stream",
          "text": [
            "          Variable     N       Mean        SD        SE  95% Conf.   Interval\n",
            "0             ESIH  18.0  23.526412  6.941311  1.636083  20.074579  26.978244\n",
            "1  Bootcamp Alumni  14.0  26.285714  2.920184  0.780452  24.599650  27.971778\n",
            "2         combined  32.0  24.733607  5.650880  0.998944  22.696247  26.770966\n",
            "                       Independent t-test  results\n",
            "0  Difference (ESIH - Bootcamp Alumni) =   -2.7593\n",
            "1                   Degrees of freedom =   30.0000\n",
            "2                                    t =   -1.3908\n",
            "3                Two side test p value =    0.1745\n",
            "4               Difference < 0 p value =    0.0873\n",
            "5               Difference > 0 p value =    0.9127\n",
            "6                            Cohen's d =   -0.4956\n",
            "7                            Hedge's g =   -0.4831\n",
            "8                        Glass's delta =   -0.3975\n",
            "9                          Pearson's r =    0.2461\n",
            "There is any statistically significant difference in the average age between Bootcamp Alumni  and ESIH\n"
          ],
          "name": "stdout"
        }
      ]
    },
    {
      "cell_type": "code",
      "metadata": {
        "colab": {
          "base_uri": "https://localhost:8080/"
        },
        "id": "FoNPeLag4Fgx",
        "outputId": "e077fe5e-91f2-4360-afce-64142d052394"
      },
      "source": [
        "#Independant test between ESIH and Facebook\n",
        "summary, results = rp.ttest(group1= result7['age'][result7['communication_channel'] == 'ESIH'], group1_name= \"ESIH\",\n",
        "                            group2= result7['age'][result7['communication_channel'] == 'Facebook'], group2_name= \"Facebook\")\n",
        "print(summary)\n",
        "print(results)\n",
        "print(\"There is any statistically significant difference in the average age between Facebook  and ESIH\")"
      ],
      "execution_count": 60,
      "outputs": [
        {
          "output_type": "stream",
          "text": [
            "   Variable     N       Mean        SD        SE  95% Conf.   Interval\n",
            "0      ESIH  18.0  23.526412  6.941311  1.636083  20.074579  26.978244\n",
            "1  Facebook  40.0  26.036885  7.998672  1.264701  23.478786  28.594985\n",
            "2  combined  58.0  25.257773  7.714761  1.012998  23.229280  27.286266\n",
            "                Independent t-test  results\n",
            "0  Difference (ESIH - Facebook) =   -2.5105\n",
            "1            Degrees of freedom =   56.0000\n",
            "2                             t =   -1.1498\n",
            "3         Two side test p value =    0.2551\n",
            "4        Difference < 0 p value =    0.1276\n",
            "5        Difference > 0 p value =    0.8724\n",
            "6                     Cohen's d =   -0.3263\n",
            "7                     Hedge's g =   -0.3219\n",
            "8                 Glass's delta =   -0.3617\n",
            "9                   Pearson's r =    0.1519\n",
            "There is any statistically significant difference in the average age between Facebook  and ESIH\n"
          ],
          "name": "stdout"
        }
      ]
    },
    {
      "cell_type": "code",
      "metadata": {
        "colab": {
          "base_uri": "https://localhost:8080/"
        },
        "id": "P4dP4MH-4a-e",
        "outputId": "114de84e-f511-41cc-beb3-29aef70df4e3"
      },
      "source": [
        "#Independant test between Facebook and Instagram\n",
        "summary, results = rp.ttest(group1= result7['age'][result7['communication_channel'] == 'Instagram'], group1_name= \"Instagram\",\n",
        "                            group2= result7['age'][result7['communication_channel'] == 'Facebook'], group2_name= \"Facebook\")\n",
        "print(summary)\n",
        "print(results)\n",
        "print(\"There is any statistically significant difference in the average age between Facebook  and Instagram\")"
      ],
      "execution_count": 61,
      "outputs": [
        {
          "output_type": "stream",
          "text": [
            "    Variable     N       Mean        SD        SE  95% Conf.   Interval\n",
            "0  Instagram   5.0  24.400000  4.979960  2.227106  18.216563  30.583437\n",
            "1   Facebook  40.0  26.036885  7.998672  1.264701  23.478786  28.594985\n",
            "2   combined  45.0  25.855009  7.696339  1.147303  23.542773  28.167245\n",
            "                     Independent t-test  results\n",
            "0  Difference (Instagram - Facebook) =   -1.6369\n",
            "1                 Degrees of freedom =   43.0000\n",
            "2                                  t =   -0.4443\n",
            "3              Two side test p value =    0.6591\n",
            "4             Difference < 0 p value =    0.3295\n",
            "5             Difference > 0 p value =    0.6705\n",
            "6                          Cohen's d =   -0.2107\n",
            "7                          Hedge's g =   -0.2070\n",
            "8                      Glass's delta =   -0.3287\n",
            "9                        Pearson's r =    0.0676\n",
            "There is any statistically significant difference in the average age between Facebook  and Instagram\n"
          ],
          "name": "stdout"
        }
      ]
    },
    {
      "cell_type": "code",
      "metadata": {
        "colab": {
          "base_uri": "https://localhost:8080/"
        },
        "id": "sfSgqkAW4pke",
        "outputId": "8a93dde1-5155-413c-a4f1-f9e5bd26c36c"
      },
      "source": [
        "#Independant test between Instagram and LinkedIn\n",
        "summary, results = rp.ttest(group1= result7['age'][result7['communication_channel'] == 'Instagram'], group1_name= \"Instagram\",\n",
        "                            group2= result7['age'][result7['communication_channel'] == 'LinkedIn'], group2_name= \"LinkedIn\")\n",
        "print(summary)\n",
        "print(results)\n",
        "print(\"There is any statistically significant difference in the average age between LinkedIn and Instagram\")"
      ],
      "execution_count": 62,
      "outputs": [
        {
          "output_type": "stream",
          "text": [
            "    Variable     N       Mean        SD        SE  95% Conf.   Interval\n",
            "0  Instagram   5.0  24.400000  4.979960  2.227106  18.216563  30.583437\n",
            "1   LinkedIn  15.0  29.965027  6.831672  1.763930  26.181773  33.748281\n",
            "2   combined  20.0  28.573770  6.761891  1.512005  25.409108  31.738433\n",
            "                     Independent t-test  results\n",
            "0  Difference (Instagram - LinkedIn) =   -5.5650\n",
            "1                 Degrees of freedom =   18.0000\n",
            "2                                  t =   -1.6666\n",
            "3              Two side test p value =    0.1129\n",
            "4             Difference < 0 p value =    0.0564\n",
            "5             Difference > 0 p value =    0.9436\n",
            "6                          Cohen's d =   -0.8606\n",
            "7                          Hedge's g =   -0.8243\n",
            "8                      Glass's delta =   -1.1175\n",
            "9                        Pearson's r =    0.3656\n",
            "There is any statistically significant difference in the average age between LinkedIn and Instagram\n"
          ],
          "name": "stdout"
        }
      ]
    },
    {
      "cell_type": "code",
      "metadata": {
        "colab": {
          "base_uri": "https://localhost:8080/"
        },
        "id": "oyI_agAm451G",
        "outputId": "43a778eb-7a31-477d-e35b-afb51a9894e7"
      },
      "source": [
        "#Independant test between LinkedIn and WhatsApp\n",
        "summary, results = rp.ttest(group1= result7['age'][result7['communication_channel'] == 'WhatsApp'], group1_name= \"WhatsApp\",\n",
        "                            group2= result7['age'][result7['communication_channel'] == 'LinkedIn'], group2_name= \"LinkedIn\")\n",
        "print(summary)\n",
        "print(results)\n",
        "print(\"There is any statistically significant difference in the average age between LinkedIn and WhatsApp\")"
      ],
      "execution_count": 63,
      "outputs": [
        {
          "output_type": "stream",
          "text": [
            "   Variable     N       Mean        SD        SE  95% Conf.   Interval\n",
            "0  WhatsApp  66.0  26.529558  7.949788  0.978551  24.575256  28.483860\n",
            "1  LinkedIn  15.0  29.965027  6.831672  1.763930  26.181773  33.748281\n",
            "2  combined  81.0  27.165756  7.830709  0.870079  25.434244  28.897268\n",
            "                    Independent t-test  results\n",
            "0  Difference (WhatsApp - LinkedIn) =   -3.4355\n",
            "1                Degrees of freedom =   79.0000\n",
            "2                                 t =   -1.5471\n",
            "3             Two side test p value =    0.1258\n",
            "4            Difference < 0 p value =    0.0629\n",
            "5            Difference > 0 p value =    0.9371\n",
            "6                         Cohen's d =   -0.4425\n",
            "7                         Hedge's g =   -0.4383\n",
            "8                     Glass's delta =   -0.4321\n",
            "9                       Pearson's r =    0.1715\n",
            "There is any statistically significant difference in the average age between LinkedIn and WhatsApp\n"
          ],
          "name": "stdout"
        }
      ]
    },
    {
      "cell_type": "code",
      "metadata": {
        "colab": {
          "base_uri": "https://localhost:8080/"
        },
        "id": "2dP-gaUx5NN2",
        "outputId": "0c624d48-24ce-452b-d44a-d401c1cabf78"
      },
      "source": [
        "#Independant test between WhatsApp and other\n",
        "summary, results = rp.ttest(group1= result7['age'][result7['communication_channel'] == 'WhatsApp'], group1_name= \"WhatsApp\",\n",
        "                            group2= result7['age'][result7['communication_channel'] == 'other'], group2_name= \"other\")\n",
        "print(summary)\n",
        "print(results)\n",
        "print(\"There is any statistically significant difference in the average age between other and WhatsApp\")"
      ],
      "execution_count": 64,
      "outputs": [
        {
          "output_type": "stream",
          "text": [
            "   Variable     N       Mean         SD        SE  95% Conf.   Interval\n",
            "0  WhatsApp  66.0  26.529558   7.949788  0.978551  24.575256  28.483860\n",
            "1     other   9.0  28.444444  10.211649  3.403883  20.595076  36.293813\n",
            "2  combined  75.0  26.759344   8.196247  0.946421  24.873559  28.645129\n",
            "                 Independent t-test  results\n",
            "0  Difference (WhatsApp - other) =   -1.9149\n",
            "1             Degrees of freedom =   73.0000\n",
            "2                              t =   -0.6550\n",
            "3          Two side test p value =    0.5146\n",
            "4         Difference < 0 p value =    0.2573\n",
            "5         Difference > 0 p value =    0.7427\n",
            "6                      Cohen's d =   -0.2327\n",
            "7                      Hedge's g =   -0.2303\n",
            "8                  Glass's delta =   -0.2409\n",
            "9                    Pearson's r =    0.0764\n",
            "There is any statistically significant difference in the average age between other and WhatsApp\n"
          ],
          "name": "stdout"
        }
      ]
    },
    {
      "cell_type": "code",
      "metadata": {
        "colab": {
          "base_uri": "https://localhost:8080/"
        },
        "id": "zNSGQfFT5g3G",
        "outputId": "70816a08-c29b-4da2-caa9-97a0e9e6eb63"
      },
      "source": [
        "#Independant test between other and unknown\n",
        "summary, results = rp.ttest(group1= result7['age'][result7['communication_channel'] == 'unknown'], group1_name= \"unknown\",\n",
        "                            group2= result7['age'][result7['communication_channel'] == 'other'], group2_name= \"other\")\n",
        "print(summary)\n",
        "print(results)\n",
        "print(\"There is any statistically significant difference in the average age between other and unknown\")"
      ],
      "execution_count": 65,
      "outputs": [
        {
          "output_type": "stream",
          "text": [
            "   Variable     N       Mean         SD        SE  95% Conf.   Interval\n",
            "0   unknown   1.0  22.000000        NaN       NaN        NaN        NaN\n",
            "1     other   9.0  28.444444  10.211649  3.403883  20.595076  36.293813\n",
            "2  combined  10.0  27.800000   9.840957  3.111984  20.760203  34.839797\n",
            "                Independent t-test  results\n",
            "0  Difference (unknown - other) =   -6.4444\n",
            "1            Degrees of freedom =    8.0000\n",
            "2                             t =       NaN\n",
            "3         Two side test p value =       NaN\n",
            "4        Difference < 0 p value =       NaN\n",
            "5        Difference > 0 p value =       NaN\n",
            "6                     Cohen's d =       NaN\n",
            "7                     Hedge's g =       NaN\n",
            "8                 Glass's delta =       NaN\n",
            "9                   Pearson's r =       NaN\n",
            "There is any statistically significant difference in the average age between other and unknown\n"
          ],
          "name": "stdout"
        },
        {
          "output_type": "stream",
          "text": [
            "/usr/local/lib/python3.7/dist-packages/numpy/core/fromnumeric.py:3622: RuntimeWarning: Degrees of freedom <= 0 for slice\n",
            "  **kwargs)\n",
            "/usr/local/lib/python3.7/dist-packages/numpy/core/_methods.py:226: RuntimeWarning: invalid value encountered in double_scalars\n",
            "  ret = ret.dtype.type(ret / rcount)\n",
            "/usr/local/lib/python3.7/dist-packages/numpy/core/_methods.py:234: RuntimeWarning: Degrees of freedom <= 0 for slice\n",
            "  keepdims=keepdims)\n"
          ],
          "name": "stderr"
        }
      ]
    },
    {
      "cell_type": "markdown",
      "metadata": {
        "id": "FJL4sQGmjQMX"
      },
      "source": [
        "### 8.Plan a BA strategy for each communication channel regarding the age group"
      ]
    },
    {
      "cell_type": "code",
      "metadata": {
        "colab": {
          "base_uri": "https://localhost:8080/",
          "height": 381
        },
        "id": "3dWaVS67ttyz",
        "outputId": "5a9d138a-85b2-4197-cb6f-7523a8d47ebf"
      },
      "source": [
        "result21=result7.groupby(by=[\"communication_channel\"]).age.mean().to_frame()\n",
        "result21"
      ],
      "execution_count": 66,
      "outputs": [
        {
          "output_type": "execute_result",
          "data": {
            "text/html": [
              "<div>\n",
              "<style scoped>\n",
              "    .dataframe tbody tr th:only-of-type {\n",
              "        vertical-align: middle;\n",
              "    }\n",
              "\n",
              "    .dataframe tbody tr th {\n",
              "        vertical-align: top;\n",
              "    }\n",
              "\n",
              "    .dataframe thead th {\n",
              "        text-align: right;\n",
              "    }\n",
              "</style>\n",
              "<table border=\"1\" class=\"dataframe\">\n",
              "  <thead>\n",
              "    <tr style=\"text-align: right;\">\n",
              "      <th></th>\n",
              "      <th>age</th>\n",
              "    </tr>\n",
              "    <tr>\n",
              "      <th>communication_channel</th>\n",
              "      <th></th>\n",
              "    </tr>\n",
              "  </thead>\n",
              "  <tbody>\n",
              "    <tr>\n",
              "      <th>Ayiti Analytics Website</th>\n",
              "      <td>27.000000</td>\n",
              "    </tr>\n",
              "    <tr>\n",
              "      <th>Bootcamp Alumni</th>\n",
              "      <td>26.285714</td>\n",
              "    </tr>\n",
              "    <tr>\n",
              "      <th>ESIH</th>\n",
              "      <td>23.526412</td>\n",
              "    </tr>\n",
              "    <tr>\n",
              "      <th>Facebook</th>\n",
              "      <td>26.036885</td>\n",
              "    </tr>\n",
              "    <tr>\n",
              "      <th>Friend</th>\n",
              "      <td>26.574260</td>\n",
              "    </tr>\n",
              "    <tr>\n",
              "      <th>Instagram</th>\n",
              "      <td>24.400000</td>\n",
              "    </tr>\n",
              "    <tr>\n",
              "      <th>LinkedIn</th>\n",
              "      <td>29.965027</td>\n",
              "    </tr>\n",
              "    <tr>\n",
              "      <th>WhatsApp</th>\n",
              "      <td>26.529558</td>\n",
              "    </tr>\n",
              "    <tr>\n",
              "      <th>other</th>\n",
              "      <td>28.444444</td>\n",
              "    </tr>\n",
              "    <tr>\n",
              "      <th>unknown</th>\n",
              "      <td>22.000000</td>\n",
              "    </tr>\n",
              "  </tbody>\n",
              "</table>\n",
              "</div>"
            ],
            "text/plain": [
              "                               age\n",
              "communication_channel             \n",
              "Ayiti Analytics Website  27.000000\n",
              "Bootcamp Alumni          26.285714\n",
              "ESIH                     23.526412\n",
              "Facebook                 26.036885\n",
              "Friend                   26.574260\n",
              "Instagram                24.400000\n",
              "LinkedIn                 29.965027\n",
              "WhatsApp                 26.529558\n",
              "other                    28.444444\n",
              "unknown                  22.000000"
            ]
          },
          "metadata": {
            "tags": []
          },
          "execution_count": 66
        }
      ]
    },
    {
      "cell_type": "code",
      "metadata": {
        "id": "sDDyEJ8InZp9"
      },
      "source": [
        "#import missing package\n",
        "from matplotlib.colors import ListedColormap"
      ],
      "execution_count": 69,
      "outputs": []
    },
    {
      "cell_type": "code",
      "metadata": {
        "colab": {
          "base_uri": "https://localhost:8080/",
          "height": 710
        },
        "id": "kzK4DwzmvBDZ",
        "outputId": "82a403b7-48a9-4fad-b316-c590aa1c72a6"
      },
      "source": [
        "#Graph\n",
        "# Show communication channel by age avg\n",
        "fig20 =result21.plot(kind='bar', stacked=False,\n",
        "          colormap=ListedColormap(sns.color_palette(\"pastel\", 10)), \n",
        "          figsize=(20,10))"
      ],
      "execution_count": 70,
      "outputs": [
        {
          "output_type": "display_data",
          "data": {
            "image/png": "[encoded data removed]",
            "text/plain": [
              "<Figure size 1440x720 with 1 Axes>"
            ]
          },
          "metadata": {
            "tags": [],
            "needs_background": "light"
          }
        }
      ]
    },
    {
      "cell_type": "markdown",
      "metadata": {
        "id": "usI9yD_ovZCf"
      },
      "source": [
        "As we can see we have no significant difference between age group. So we can plan a general message who is susceptible to be positively interpreted by young adult.(between 20 and 30 years old)."
      ]
    },
    {
      "cell_type": "markdown",
      "metadata": {
        "id": "CYWQd5VDjQMY"
      },
      "source": [
        "### 9.According to the observations what is the probability of being in each channel of communication knowing your are a woman"
      ]
    },
    {
      "cell_type": "code",
      "metadata": {
        "id": "AaC2AzoIjQMY"
      },
      "source": [
        "#here your codes\n",
        "def proba_c1_knowing_c2(data=result7,c1=\"communication_channel\", c2=\"gender\", c2_mod=\"\", normalize='index'):\n",
        "  tab_prob=pd.crosstab(result7[c2],result7[c1],normalize=\"index\")\n",
        "  print(f\"Probability of {c1} knowing {c2} ={c2_mod}: \")\n",
        "  if c2_mod in tab_prob.index:\n",
        "    for col in tab_prob.columns:\n",
        "      print(f\"The probability of {col} as {c1} knowing {c2_mod} is: {round(tab_prob.at[c2_mod, col],4)}\")\n",
        "  else:\n",
        "    for col in tab_prob.index:\n",
        "      print(f\"The probability of {c1} as {c2_mod} knowing {col} is: {round(tab_prob.at[col,c2_mod],4)}\")\n"
      ],
      "execution_count": 71,
      "outputs": []
    },
    {
      "cell_type": "code",
      "metadata": {
        "colab": {
          "base_uri": "https://localhost:8080/"
        },
        "id": "1-hYgkoQEXHF",
        "outputId": "41c39de7-5a86-4bd0-c584-dbb3235051e0"
      },
      "source": [
        "#According to the observations what is the probability of being in each channel of communication knowing your are a woman\n",
        "proba_c1_knowing_c2(c2_mod=\"female\")"
      ],
      "execution_count": 72,
      "outputs": [
        {
          "output_type": "stream",
          "text": [
            "Probability of communication_channel knowing gender =female: \n",
            "The probability of Ayiti Analytics Website as communication_channel knowing female is: 0.0851\n",
            "The probability of Bootcamp Alumni as communication_channel knowing female is: 0.1702\n",
            "The probability of ESIH as communication_channel knowing female is: 0.1064\n",
            "The probability of Facebook as communication_channel knowing female is: 0.1277\n",
            "The probability of Friend as communication_channel knowing female is: 0.234\n",
            "The probability of Instagram as communication_channel knowing female is: 0.0213\n",
            "The probability of LinkedIn as communication_channel knowing female is: 0.0213\n",
            "The probability of WhatsApp as communication_channel knowing female is: 0.1915\n",
            "The probability of other as communication_channel knowing female is: 0.0426\n",
            "The probability of unknown as communication_channel knowing female is: 0.0\n"
          ],
          "name": "stdout"
        }
      ]
    },
    {
      "cell_type": "markdown",
      "metadata": {
        "id": "mxw7mkp8jQMY"
      },
      "source": [
        "### 10.According to the observations what is the probability of being in each channel of communication knowing your are a man"
      ]
    },
    {
      "cell_type": "code",
      "metadata": {
        "id": "Nx_1jEQyjQMY",
        "colab": {
          "base_uri": "https://localhost:8080/"
        },
        "outputId": "05810c4b-735c-4054-8937-463be6b67a6d"
      },
      "source": [
        "#here your codes\n",
        "#According to the observations what is the probability of being in each channel of communication knowing your are a man\n",
        "proba_c1_knowing_c2(c2_mod=\"male\")"
      ],
      "execution_count": 73,
      "outputs": [
        {
          "output_type": "stream",
          "text": [
            "Probability of communication_channel knowing gender =male: \n",
            "The probability of Ayiti Analytics Website as communication_channel knowing male is: 0.0542\n",
            "The probability of Bootcamp Alumni as communication_channel knowing male is: 0.0296\n",
            "The probability of ESIH as communication_channel knowing male is: 0.064\n",
            "The probability of Facebook as communication_channel knowing male is: 0.1675\n",
            "The probability of Friend as communication_channel knowing male is: 0.2759\n",
            "The probability of Instagram as communication_channel knowing male is: 0.0197\n",
            "The probability of LinkedIn as communication_channel knowing male is: 0.069\n",
            "The probability of WhatsApp as communication_channel knowing male is: 0.2808\n",
            "The probability of other as communication_channel knowing male is: 0.0345\n",
            "The probability of unknown as communication_channel knowing male is: 0.0049\n"
          ],
          "name": "stdout"
        }
      ]
    },
    {
      "cell_type": "markdown",
      "metadata": {
        "id": "031EXE3FjQMY"
      },
      "source": [
        "### 11. Deduce the probability of being a woman knowing each communication channel"
      ]
    },
    {
      "cell_type": "code",
      "metadata": {
        "id": "PGADznIQjQMZ",
        "colab": {
          "base_uri": "https://localhost:8080/"
        },
        "outputId": "8b5aa1ad-b98c-4edf-ac8f-78db29a58658"
      },
      "source": [
        "#here your codes\n",
        "proba_c1_knowing_c2(data=result7,c1=\"gender\", c2=\"communication_channel\", c2_mod=\"female\", normalize='index')"
      ],
      "execution_count": 74,
      "outputs": [
        {
          "output_type": "stream",
          "text": [
            "Probability of gender knowing communication_channel =female: \n",
            "The probability of gender as female knowing Ayiti Analytics Website is: 0.2667\n",
            "The probability of gender as female knowing Bootcamp Alumni is: 0.5714\n",
            "The probability of gender as female knowing ESIH is: 0.2778\n",
            "The probability of gender as female knowing Facebook is: 0.15\n",
            "The probability of gender as female knowing Friend is: 0.1642\n",
            "The probability of gender as female knowing Instagram is: 0.2\n",
            "The probability of gender as female knowing LinkedIn is: 0.0667\n",
            "The probability of gender as female knowing WhatsApp is: 0.1364\n",
            "The probability of gender as female knowing other is: 0.2222\n",
            "The probability of gender as female knowing unknown is: 0.0\n"
          ],
          "name": "stdout"
        }
      ]
    },
    {
      "cell_type": "markdown",
      "metadata": {
        "id": "J0GFzpx7jQMZ"
      },
      "source": [
        "### 13. Deduce the probability of being a woman knowing each communication channel"
      ]
    },
    {
      "cell_type": "code",
      "metadata": {
        "id": "u4_vuCuMjQMZ",
        "colab": {
          "base_uri": "https://localhost:8080/"
        },
        "outputId": "4e8ae686-795c-4170-bf32-4916d7700072"
      },
      "source": [
        "# here your codes\n",
        "proba_c1_knowing_c2(data=result7,c1=\"gender\", c2=\"communication_channel\", c2_mod=\"female\", normalize='index')"
      ],
      "execution_count": 75,
      "outputs": [
        {
          "output_type": "stream",
          "text": [
            "Probability of gender knowing communication_channel =female: \n",
            "The probability of gender as female knowing Ayiti Analytics Website is: 0.2667\n",
            "The probability of gender as female knowing Bootcamp Alumni is: 0.5714\n",
            "The probability of gender as female knowing ESIH is: 0.2778\n",
            "The probability of gender as female knowing Facebook is: 0.15\n",
            "The probability of gender as female knowing Friend is: 0.1642\n",
            "The probability of gender as female knowing Instagram is: 0.2\n",
            "The probability of gender as female knowing LinkedIn is: 0.0667\n",
            "The probability of gender as female knowing WhatsApp is: 0.1364\n",
            "The probability of gender as female knowing other is: 0.2222\n",
            "The probability of gender as female knowing unknown is: 0.0\n"
          ],
          "name": "stdout"
        }
      ]
    },
    {
      "cell_type": "markdown",
      "metadata": {
        "id": "MKQJY8YTjQMZ"
      },
      "source": [
        "### 14. Deduce the probability of being a man knowing each communication channel"
      ]
    },
    {
      "cell_type": "code",
      "metadata": {
        "id": "XUIQF2tkjQMZ",
        "colab": {
          "base_uri": "https://localhost:8080/"
        },
        "outputId": "93a836e0-534c-4f57-a1e0-2ca3c36ba956"
      },
      "source": [
        "#here your codes\n",
        "proba_c1_knowing_c2(data=result7,c1=\"gender\", c2=\"communication_channel\", c2_mod=\"male\", normalize='index')"
      ],
      "execution_count": 76,
      "outputs": [
        {
          "output_type": "stream",
          "text": [
            "Probability of gender knowing communication_channel =male: \n",
            "The probability of gender as male knowing Ayiti Analytics Website is: 0.7333\n",
            "The probability of gender as male knowing Bootcamp Alumni is: 0.4286\n",
            "The probability of gender as male knowing ESIH is: 0.7222\n",
            "The probability of gender as male knowing Facebook is: 0.85\n",
            "The probability of gender as male knowing Friend is: 0.8358\n",
            "The probability of gender as male knowing Instagram is: 0.8\n",
            "The probability of gender as male knowing LinkedIn is: 0.9333\n",
            "The probability of gender as male knowing WhatsApp is: 0.8636\n",
            "The probability of gender as male knowing other is: 0.7778\n",
            "The probability of gender as male knowing unknown is: 1.0\n"
          ],
          "name": "stdout"
        }
      ]
    },
    {
      "cell_type": "markdown",
      "metadata": {
        "id": "P0YidwfdjQMa"
      },
      "source": [
        "### 15 Display a plot to see Gender vs Communication Channels .Is there any dependency between communication channels and gender?"
      ]
    },
    {
      "cell_type": "code",
      "metadata": {
        "id": "HcwDWVkKkHzf"
      },
      "source": [
        "#add a columns to result7 \n",
        "result7[\"index\"]=result7.index"
      ],
      "execution_count": 77,
      "outputs": []
    },
    {
      "cell_type": "code",
      "metadata": {
        "id": "BHcr2Ju3jQMa",
        "colab": {
          "base_uri": "https://localhost:8080/",
          "height": 138
        },
        "outputId": "f0af0545-1625-49f6-e537-b647905709fc"
      },
      "source": [
        "# Summarise dataframe using pivot table: gender & communication channel\n",
        "data_gender_vs_comm1=pd.pivot_table(result7,values=\"index\", index=['gender',],\n",
        " columns=['communication_channel'], aggfunc=\"count\",fill_value =0)\n",
        "\n",
        "data_gender_vs_comm1"
      ],
      "execution_count": 78,
      "outputs": [
        {
          "output_type": "execute_result",
          "data": {
            "text/html": [
              "<div>\n",
              "<style scoped>\n",
              "    .dataframe tbody tr th:only-of-type {\n",
              "        vertical-align: middle;\n",
              "    }\n",
              "\n",
              "    .dataframe tbody tr th {\n",
              "        vertical-align: top;\n",
              "    }\n",
              "\n",
              "    .dataframe thead th {\n",
              "        text-align: right;\n",
              "    }\n",
              "</style>\n",
              "<table border=\"1\" class=\"dataframe\">\n",
              "  <thead>\n",
              "    <tr style=\"text-align: right;\">\n",
              "      <th>communication_channel</th>\n",
              "      <th>Ayiti Analytics Website</th>\n",
              "      <th>Bootcamp Alumni</th>\n",
              "      <th>ESIH</th>\n",
              "      <th>Facebook</th>\n",
              "      <th>Friend</th>\n",
              "      <th>Instagram</th>\n",
              "      <th>LinkedIn</th>\n",
              "      <th>WhatsApp</th>\n",
              "      <th>other</th>\n",
              "      <th>unknown</th>\n",
              "    </tr>\n",
              "    <tr>\n",
              "      <th>gender</th>\n",
              "      <th></th>\n",
              "      <th></th>\n",
              "      <th></th>\n",
              "      <th></th>\n",
              "      <th></th>\n",
              "      <th></th>\n",
              "      <th></th>\n",
              "      <th></th>\n",
              "      <th></th>\n",
              "      <th></th>\n",
              "    </tr>\n",
              "  </thead>\n",
              "  <tbody>\n",
              "    <tr>\n",
              "      <th>female</th>\n",
              "      <td>4</td>\n",
              "      <td>8</td>\n",
              "      <td>5</td>\n",
              "      <td>6</td>\n",
              "      <td>11</td>\n",
              "      <td>1</td>\n",
              "      <td>1</td>\n",
              "      <td>9</td>\n",
              "      <td>2</td>\n",
              "      <td>0</td>\n",
              "    </tr>\n",
              "    <tr>\n",
              "      <th>male</th>\n",
              "      <td>11</td>\n",
              "      <td>6</td>\n",
              "      <td>13</td>\n",
              "      <td>34</td>\n",
              "      <td>56</td>\n",
              "      <td>4</td>\n",
              "      <td>14</td>\n",
              "      <td>57</td>\n",
              "      <td>7</td>\n",
              "      <td>1</td>\n",
              "    </tr>\n",
              "  </tbody>\n",
              "</table>\n",
              "</div>"
            ],
            "text/plain": [
              "communication_channel  Ayiti Analytics Website  Bootcamp Alumni  ...  other  unknown\n",
              "gender                                                           ...                \n",
              "female                                       4                8  ...      2        0\n",
              "male                                        11                6  ...      7        1\n",
              "\n",
              "[2 rows x 10 columns]"
            ]
          },
          "metadata": {
            "tags": []
          },
          "execution_count": 78
        }
      ]
    },
    {
      "cell_type": "code",
      "metadata": {
        "colab": {
          "base_uri": "https://localhost:8080/",
          "height": 630
        },
        "id": "RwRHQmm8nL_-",
        "outputId": "fd253b63-de90-4184-bfb5-1871a05e5131"
      },
      "source": [
        "#Graph\n",
        "fig1 =data_gender_vs_comm1.plot(kind='bar', stacked=False,\n",
        "          colormap=ListedColormap(sns.color_palette(\"pastel\", 10)), \n",
        "          figsize=(20,10))"
      ],
      "execution_count": 83,
      "outputs": [
        {
          "output_type": "display_data",
          "data": {
            "image/png": "[encoded data removed]",
            "text/plain": [
              "<Figure size 1440x720 with 1 Axes>"
            ]
          },
          "metadata": {
            "tags": [],
            "needs_background": "light"
          }
        }
      ]
    },
    {
      "cell_type": "markdown",
      "metadata": {
        "id": "yylBn_ZglgCR"
      },
      "source": [
        "\n",
        "Null Hypothesis H0: The two categorical variables are independent—that is, communication channel is independent with gender.\n",
        "\n",
        "Alternative Hypothesis Ha : The two categorical variables are not independent—that is, communication channel is not independent with gender."
      ]
    },
    {
      "cell_type": "code",
      "metadata": {
        "colab": {
          "base_uri": "https://localhost:8080/"
        },
        "id": "wg2nWzc8lScm",
        "outputId": "cb4858e3-ad78-4287-eec6-3dbcc444f345"
      },
      "source": [
        "# Apply Test\n",
        "stat, p, dof, expected = chi2_contingency(data_gender_vs_comm1.values)\n",
        "print(\"p-values:\",p)\n",
        "if p < 0.05:\n",
        " print(\"Hypothesis Rejected\", \"That is mean we have a dependency between gender and communication channel\")\n",
        "else:\n",
        " print(\"Hypothesis Accepted\", \"That is mean we do not have any dependency between gender and communication channel\")"
      ],
      "execution_count": 84,
      "outputs": [
        {
          "output_type": "stream",
          "text": [
            "p-values: 0.02907484414773651\n",
            "Hypothesis Rejected That is mean we have a dependency between gender and communication channel\n"
          ],
          "name": "stdout"
        }
      ]
    },
    {
      "cell_type": "markdown",
      "metadata": {
        "id": "6WQDw19wjQMa"
      },
      "source": [
        "### 16 Use the same method to display plot and know if is there any dependency between communication channels and Bootcamp Interest?"
      ]
    },
    {
      "cell_type": "code",
      "metadata": {
        "colab": {
          "base_uri": "https://localhost:8080/",
          "height": 290
        },
        "id": "9UXL-nvnopx9",
        "outputId": "fce79feb-529a-4ab2-c9a2-6b7b56d00e4e"
      },
      "source": [
        "# Summarise dataframe using pivot table: communication channel &  Bootcamp Interest\n",
        "data_Boot_vs_comm=pd.pivot_table(result7,values=\"index\", index=['Bootcamp_Interest',],\n",
        " columns=['communication_channel'], aggfunc=\"count\",fill_value =0)\n",
        "\n",
        "data_Boot_vs_comm"
      ],
      "execution_count": 85,
      "outputs": [
        {
          "output_type": "execute_result",
          "data": {
            "text/html": [
              "<div>\n",
              "<style scoped>\n",
              "    .dataframe tbody tr th:only-of-type {\n",
              "        vertical-align: middle;\n",
              "    }\n",
              "\n",
              "    .dataframe tbody tr th {\n",
              "        vertical-align: top;\n",
              "    }\n",
              "\n",
              "    .dataframe thead th {\n",
              "        text-align: right;\n",
              "    }\n",
              "</style>\n",
              "<table border=\"1\" class=\"dataframe\">\n",
              "  <thead>\n",
              "    <tr style=\"text-align: right;\">\n",
              "      <th>communication_channel</th>\n",
              "      <th>Ayiti Analytics Website</th>\n",
              "      <th>Bootcamp Alumni</th>\n",
              "      <th>ESIH</th>\n",
              "      <th>Facebook</th>\n",
              "      <th>Friend</th>\n",
              "      <th>Instagram</th>\n",
              "      <th>LinkedIn</th>\n",
              "      <th>WhatsApp</th>\n",
              "      <th>other</th>\n",
              "      <th>unknown</th>\n",
              "    </tr>\n",
              "    <tr>\n",
              "      <th>Bootcamp_Interest</th>\n",
              "      <th></th>\n",
              "      <th></th>\n",
              "      <th></th>\n",
              "      <th></th>\n",
              "      <th></th>\n",
              "      <th></th>\n",
              "      <th></th>\n",
              "      <th></th>\n",
              "      <th></th>\n",
              "      <th></th>\n",
              "    </tr>\n",
              "  </thead>\n",
              "  <tbody>\n",
              "    <tr>\n",
              "      <th>Finding a job/internship</th>\n",
              "      <td>1</td>\n",
              "      <td>3</td>\n",
              "      <td>2</td>\n",
              "      <td>10</td>\n",
              "      <td>10</td>\n",
              "      <td>2</td>\n",
              "      <td>2</td>\n",
              "      <td>11</td>\n",
              "      <td>2</td>\n",
              "      <td>0</td>\n",
              "    </tr>\n",
              "    <tr>\n",
              "      <th>Improving my data analysis skills</th>\n",
              "      <td>9</td>\n",
              "      <td>8</td>\n",
              "      <td>12</td>\n",
              "      <td>20</td>\n",
              "      <td>38</td>\n",
              "      <td>0</td>\n",
              "      <td>10</td>\n",
              "      <td>29</td>\n",
              "      <td>4</td>\n",
              "      <td>0</td>\n",
              "    </tr>\n",
              "    <tr>\n",
              "      <th>Mentorship</th>\n",
              "      <td>1</td>\n",
              "      <td>0</td>\n",
              "      <td>1</td>\n",
              "      <td>3</td>\n",
              "      <td>1</td>\n",
              "      <td>0</td>\n",
              "      <td>0</td>\n",
              "      <td>6</td>\n",
              "      <td>1</td>\n",
              "      <td>0</td>\n",
              "    </tr>\n",
              "    <tr>\n",
              "      <th>Switching careers</th>\n",
              "      <td>2</td>\n",
              "      <td>1</td>\n",
              "      <td>0</td>\n",
              "      <td>3</td>\n",
              "      <td>4</td>\n",
              "      <td>1</td>\n",
              "      <td>1</td>\n",
              "      <td>8</td>\n",
              "      <td>0</td>\n",
              "      <td>0</td>\n",
              "    </tr>\n",
              "    <tr>\n",
              "      <th>Training to start my own company</th>\n",
              "      <td>2</td>\n",
              "      <td>1</td>\n",
              "      <td>2</td>\n",
              "      <td>4</td>\n",
              "      <td>14</td>\n",
              "      <td>2</td>\n",
              "      <td>2</td>\n",
              "      <td>11</td>\n",
              "      <td>1</td>\n",
              "      <td>0</td>\n",
              "    </tr>\n",
              "    <tr>\n",
              "      <th>other</th>\n",
              "      <td>0</td>\n",
              "      <td>0</td>\n",
              "      <td>1</td>\n",
              "      <td>0</td>\n",
              "      <td>0</td>\n",
              "      <td>0</td>\n",
              "      <td>0</td>\n",
              "      <td>1</td>\n",
              "      <td>1</td>\n",
              "      <td>0</td>\n",
              "    </tr>\n",
              "    <tr>\n",
              "      <th>unknown</th>\n",
              "      <td>0</td>\n",
              "      <td>1</td>\n",
              "      <td>0</td>\n",
              "      <td>0</td>\n",
              "      <td>0</td>\n",
              "      <td>0</td>\n",
              "      <td>0</td>\n",
              "      <td>0</td>\n",
              "      <td>0</td>\n",
              "      <td>1</td>\n",
              "    </tr>\n",
              "  </tbody>\n",
              "</table>\n",
              "</div>"
            ],
            "text/plain": [
              "communication_channel              Ayiti Analytics Website  ...  unknown\n",
              "Bootcamp_Interest                                           ...         \n",
              "Finding a job/internship                                 1  ...        0\n",
              "Improving my data analysis skills                        9  ...        0\n",
              "Mentorship                                               1  ...        0\n",
              "Switching careers                                        2  ...        0\n",
              "Training to start my own company                         2  ...        0\n",
              "other                                                    0  ...        0\n",
              "unknown                                                  0  ...        1\n",
              "\n",
              "[7 rows x 10 columns]"
            ]
          },
          "metadata": {
            "tags": []
          },
          "execution_count": 85
        }
      ]
    },
    {
      "cell_type": "code",
      "metadata": {
        "colab": {
          "base_uri": "https://localhost:8080/",
          "height": 767
        },
        "id": "pMLqrhG7puQI",
        "outputId": "6d80064a-c265-414f-fc14-cf19c00f7cce"
      },
      "source": [
        "#Graph\n",
        "fig1 =data_Boot_vs_comm.plot(kind='bar', stacked=False,\n",
        "          colormap=ListedColormap(sns.color_palette(\"Dark2_r\", 10)), \n",
        "          figsize=(20,10))"
      ],
      "execution_count": 86,
      "outputs": [
        {
          "output_type": "display_data",
          "data": {
            "image/png": "[encoded data removed]",
            "text/plain": [
              "<Figure size 1440x720 with 1 Axes>"
            ]
          },
          "metadata": {
            "tags": [],
            "needs_background": "light"
          }
        }
      ]
    },
    {
      "cell_type": "markdown",
      "metadata": {
        "id": "eCp6X4cup4aW"
      },
      "source": [
        "\n",
        "Null Hypothesis H0: The two categorical variables are independent—that is, communication channel is independent to Bootcamp_Interest.\n",
        "\n",
        "Alternative Hypothesis Ha : The two categorical variables are not independent—that is, communication channel is not independent to Bootcamp_Interest."
      ]
    },
    {
      "cell_type": "code",
      "metadata": {
        "colab": {
          "base_uri": "https://localhost:8080/"
        },
        "id": "5gHQYSjOqIUB",
        "outputId": "3c066d44-a616-41a4-9b49-7543b6825317"
      },
      "source": [
        "# Apply Test\n",
        "stat, p, dof, expected = chi2_contingency(data_Boot_vs_comm.values)\n",
        "print(\"p-values:\",p)\n",
        "if p < 0.05:\n",
        " print(\"Hypothesis Rejected\", \"That is mean we have a dependency between bootcamp interest and communication channel\")\n",
        "else:\n",
        " print(\"Hypothesis Accepted\", \"That is mean we do not have any dependency between bootacmp interest and communication channel\")"
      ],
      "execution_count": 87,
      "outputs": [
        {
          "output_type": "stream",
          "text": [
            "p-values: 2.7040922010696464e-14\n",
            "Hypothesis Rejected That is mean we have a dependency between bootcamp interest and communication channel\n"
          ],
          "name": "stdout"
        }
      ]
    },
    {
      "cell_type": "markdown",
      "metadata": {
        "id": "DqAciUUHjQMa"
      },
      "source": [
        "### 17.Plan a BA  strategy for each communication channel, Bootcamp Interest regarding the gender "
      ]
    },
    {
      "cell_type": "code",
      "metadata": {
        "id": "Fsnc0JTZjQMa",
        "colab": {
          "base_uri": "https://localhost:8080/"
        },
        "outputId": "a6cf54bd-4383-4ca8-8132-1dbdb7c7c4fa"
      },
      "source": [
        "#here your codes\n",
        "#Filt communication channel by quest_id and gender\n",
        "result16=pd.pivot_table(data=result7,values=\"quest_id\",index=\"communication_channel\",columns=\"gender\",aggfunc=\"count\")\n",
        "print(result16)\n",
        "\n",
        "#Filt Bootcamp Interest by quest_id and gender\n",
        "result17=pd.pivot_table(data=result7,values=\"quest_id\",index=\"Bootcamp_Interest\",columns=\"gender\",aggfunc=\"count\")\n",
        "print(result17)\n",
        "\n",
        "#merge the previous dataframe\n",
        "#result18=pd.concat([result17,result16],axis=1)\n",
        "#print(result18)"
      ],
      "execution_count": 88,
      "outputs": [
        {
          "output_type": "stream",
          "text": [
            "gender                   female  male\n",
            "communication_channel                \n",
            "Ayiti Analytics Website     4.0  11.0\n",
            "Bootcamp Alumni             8.0   6.0\n",
            "ESIH                        5.0  13.0\n",
            "Facebook                    6.0  34.0\n",
            "Friend                     11.0  56.0\n",
            "Instagram                   1.0   4.0\n",
            "LinkedIn                    1.0  14.0\n",
            "WhatsApp                    9.0  57.0\n",
            "other                       2.0   7.0\n",
            "unknown                     NaN   1.0\n",
            "gender                             female   male\n",
            "Bootcamp_Interest                               \n",
            "Finding a job/internship             10.0   33.0\n",
            "Improving my data analysis skills    24.0  106.0\n",
            "Mentorship                            4.0    9.0\n",
            "Switching careers                     3.0   17.0\n",
            "Training to start my own company      6.0   33.0\n",
            "other                                 NaN    3.0\n",
            "unknown                               NaN    2.0\n"
          ],
          "name": "stdout"
        }
      ]
    },
    {
      "cell_type": "code",
      "metadata": {
        "colab": {
          "base_uri": "https://localhost:8080/",
          "height": 710
        },
        "id": "v223CDjkdWsT",
        "outputId": "e746378f-77d1-4223-a161-213d291ac2e7"
      },
      "source": [
        "#Graph\n",
        "# Show communication channel by gender\n",
        "fig18 =result16.plot(kind='bar', stacked=False,\n",
        "          colormap=ListedColormap(sns.color_palette(\"pastel\", 2)), \n",
        "          figsize=(20,10))"
      ],
      "execution_count": 89,
      "outputs": [
        {
          "output_type": "display_data",
          "data": {
            "image/png": "[encoded data removed]",
            "text/plain": [
              "<Figure size 1440x720 with 1 Axes>"
            ]
          },
          "metadata": {
            "tags": [],
            "needs_background": "light"
          }
        }
      ]
    },
    {
      "cell_type": "markdown",
      "metadata": {
        "id": "YhOKin8CeGnj"
      },
      "source": [
        "As we can see on the previous graph:\n",
        "\n",
        "-if the gender is male,the communication channel who must be used is whatssap following by friend.The message must be able to deliver in less than 40seconds.\n",
        "\n",
        "-if the gender is female, the communication channel who must be used is friend following by bootcamp Alumni. For them Ayiti Analytics must prepare a message easily transmissible by voice."
      ]
    },
    {
      "cell_type": "code",
      "metadata": {
        "colab": {
          "base_uri": "https://localhost:8080/",
          "height": 767
        },
        "id": "UoHHt8Cndwl-",
        "outputId": "3c9cda26-f566-45ca-d8c5-5fa005cac17c"
      },
      "source": [
        "#Graph\n",
        "#Show Bootcamp interest by gender\n",
        "fig19 =result17.plot(kind='bar', stacked=False,\n",
        "          colormap=ListedColormap(sns.color_palette(\"pastel\", 2)), \n",
        "          figsize=(20,10))"
      ],
      "execution_count": 90,
      "outputs": [
        {
          "output_type": "display_data",
          "data": {
            "image/png": "[encoded data removed]",
            "text/plain": [
              "<Figure size 1440x720 with 1 Axes>"
            ]
          },
          "metadata": {
            "tags": [],
            "needs_background": "light"
          }
        }
      ]
    },
    {
      "cell_type": "markdown",
      "metadata": {
        "id": "aKSaRTtwgyD_"
      },
      "source": [
        "As we can see on the previous graph:\n",
        "\n",
        "-if the gender is male and the objectives is to increase the numbers of participants . The message must be focus on those three group:\"data analysis Skills, Finding Job, start own company\"\n",
        "\n",
        "-if the gender is female and the objectives is to increase the numbers of participants . The message must be focus on those three group:\"data analysis Skills, Finding Job, start our own company\"."
      ]
    },
    {
      "cell_type": "markdown",
      "metadata": {
        "id": "zR_ODm7ZjQMa"
      },
      "source": [
        "### 18.Plan a BA  strategy for each communication channel, Bootcamp Interest regarding the gender"
      ]
    },
    {
      "cell_type": "code",
      "metadata": {
        "id": "K7pefdCfjQMa"
      },
      "source": [
        "# here your codes\n",
        "#is same as previous question\n",
        "#17.Plan a BA strategy for each communication channel, Bootcamp Interest regarding the gender"
      ],
      "execution_count": 91,
      "outputs": []
    },
    {
      "cell_type": "markdown",
      "metadata": {
        "id": "aR_9T6BljQMa"
      },
      "source": [
        "### 19. Calculate \n",
        "    * P(Bootcamp Interest,Communication channels,Gender/Payed=yes)\n",
        "    * P(Bootcamp Interest,Communication channels,Gender/Payed=no)"
      ]
    },
    {
      "cell_type": "code",
      "metadata": {
        "id": "h_j4VFOZE_8L"
      },
      "source": [
        "#Determine shape \n",
        "Yes=len(result7[result7[\"payed\"]==\"Yes\"])\n",
        "No=len(result7)-Yes"
      ],
      "execution_count": 141,
      "outputs": []
    },
    {
      "cell_type": "code",
      "metadata": {
        "colab": {
          "base_uri": "https://localhost:8080/"
        },
        "id": "tQRbBZ2n-f-1",
        "outputId": "22ee1803-0b0d-4522-bf53-f722494246b0"
      },
      "source": [
        "#here your code\n",
        "result9=pd.pivot_table(result7[result7['payed']==\"Yes\"], values=\"quest_id\", index=['Bootcamp_Interest', 'communication_channel','gender'], aggfunc=\"count\")\n",
        "result9=result9/Yes\n",
        "print(\"Probabilities for a payed applicant by Bootcamp interest , communication channel and gender category\")\n",
        "print(result9)\n",
        "\n",
        "#here your code\n",
        "result10=pd.pivot_table(result7[result7['payed']==\"No\"], values=\"quest_id\", index=['Bootcamp_Interest', 'communication_channel','gender'], aggfunc=\"count\")\n",
        "result10=result10/No\n",
        "print(\"Probabilities for a non-payed applicant by Bootcamp interest , communication channel and gender category\")\n",
        "print(result10)"
      ],
      "execution_count": 143,
      "outputs": [
        {
          "output_type": "stream",
          "text": [
            "Probabilities for a payed applicant by Bootcamp interest , communication channel and gender category\n",
            "                                                                  quest_id\n",
            "Bootcamp_Interest                 communication_channel   gender          \n",
            "Finding a job/internship          Ayiti Analytics Website male    0.015385\n",
            "                                  Bootcamp Alumni         female  0.015385\n",
            "                                  ESIH                    male    0.015385\n",
            "                                  Facebook                male    0.015385\n",
            "                                  Friend                  female  0.015385\n",
            "                                                          male    0.030769\n",
            "                                  Instagram               male    0.015385\n",
            "                                  LinkedIn                male    0.015385\n",
            "                                  WhatsApp                female  0.015385\n",
            "                                                          male    0.046154\n",
            "Improving my data analysis skills Ayiti Analytics Website male    0.015385\n",
            "                                  Bootcamp Alumni         female  0.015385\n",
            "                                                          male    0.076923\n",
            "                                  ESIH                    male    0.030769\n",
            "                                  Facebook                female  0.030769\n",
            "                                                          male    0.076923\n",
            "                                  Friend                  female  0.030769\n",
            "                                                          male    0.215385\n",
            "                                  LinkedIn                female  0.015385\n",
            "                                                          male    0.015385\n",
            "                                  WhatsApp                female  0.046154\n",
            "                                                          male    0.046154\n",
            "                                  other                   male    0.015385\n",
            "Mentorship                        other                   female  0.015385\n",
            "Switching careers                 Bootcamp Alumni         female  0.015385\n",
            "Training to start my own company  Ayiti Analytics Website male    0.015385\n",
            "                                  Facebook                male    0.015385\n",
            "                                  Friend                  male    0.046154\n",
            "                                  WhatsApp                male    0.030769\n",
            "other                             ESIH                    male    0.015385\n",
            "                                  WhatsApp                male    0.015385\n",
            "Probabilities for a non-payed applicant by Bootcamp interest , communication channel and gender category\n",
            "                                                                  quest_id\n",
            "Bootcamp_Interest                 communication_channel   gender          \n",
            "Finding a job/internship          Bootcamp Alumni         female  0.010811\n",
            "                                  ESIH                    male    0.005405\n",
            "                                  Facebook                female  0.010811\n",
            "                                                          male    0.037838\n",
            "                                  Friend                  female  0.016216\n",
            "                                                          male    0.021622\n",
            "                                  Instagram               male    0.005405\n",
            "                                  LinkedIn                male    0.005405\n",
            "                                  WhatsApp                male    0.037838\n",
            "                                  other                   male    0.010811\n",
            "Improving my data analysis skills Ayiti Analytics Website female  0.010811\n",
            "                                                          male    0.032432\n",
            "                                  Bootcamp Alumni         female  0.010811\n",
            "                                  ESIH                    female  0.016216\n",
            "                                                          male    0.037838\n",
            "                                  Facebook                male    0.070270\n",
            "                                  Friend                  female  0.021622\n",
            "                                                          male    0.097297\n",
            "                                  LinkedIn                male    0.043243\n",
            "                                  WhatsApp                female  0.016216\n",
            "                                                          male    0.108108\n",
            "                                  other                   female  0.005405\n",
            "                                                          male    0.010811\n",
            "Mentorship                        Ayiti Analytics Website male    0.005405\n",
            "                                  ESIH                    female  0.005405\n",
            "                                  Facebook                female  0.010811\n",
            "                                                          male    0.005405\n",
            "                                  Friend                  male    0.005405\n",
            "                                  WhatsApp                male    0.032432\n",
            "Switching careers                 Ayiti Analytics Website female  0.005405\n",
            "                                                          male    0.005405\n",
            "                                  Facebook                male    0.016216\n",
            "                                  Friend                  male    0.021622\n",
            "                                  Instagram               male    0.005405\n",
            "                                  LinkedIn                male    0.005405\n",
            "                                  WhatsApp                female  0.005405\n",
            "                                                          male    0.037838\n",
            "Training to start my own company  Ayiti Analytics Website female  0.005405\n",
            "                                  Bootcamp Alumni         female  0.005405\n",
            "                                  ESIH                    female  0.005405\n",
            "                                                          male    0.005405\n",
            "                                  Facebook                male    0.016216\n",
            "                                  Friend                  female  0.005405\n",
            "                                                          male    0.054054\n",
            "                                  Instagram               female  0.005405\n",
            "                                                          male    0.005405\n",
            "                                  LinkedIn                male    0.010811\n",
            "                                  WhatsApp                female  0.005405\n",
            "                                                          male    0.043243\n",
            "                                  other                   male    0.005405\n",
            "other                             other                   male    0.005405\n",
            "unknown                           Bootcamp Alumni         male    0.005405\n",
            "                                  unknown                 male    0.005405\n"
          ],
          "name": "stdout"
        }
      ]
    },
    {
      "cell_type": "markdown",
      "metadata": {
        "id": "y0TnHLmQjQMa"
      },
      "source": [
        "### 20 Deduce \n",
        "* P(Payed=\"yes\"/Bootcamp Interest=\"Increase Skill\",Communication channels=\"Friend\",Gender=\"male\")\n",
        "* P(Payed=\"no\"/Bootcamp Interest=\"Increase Skill\",Communication channels=\"Friend\",Gender=\"male\")"
      ]
    },
    {
      "cell_type": "code",
      "metadata": {
        "colab": {
          "base_uri": "https://localhost:8080/"
        },
        "id": "Ku8IyNX67a-j",
        "outputId": "c59174e4-fd7f-48a7-e25a-c53c80636a86"
      },
      "source": [
        "result8=result7[(result7[\"Bootcamp_Interest\"]==\"Improving my data analysis skills\") &(result7['communication_channel']==\"Friend\") & (result7['gender']=='male')]\n",
        "result8=result8['payed'].value_counts(normalize=True)\n",
        "result8.rename(index={\"Yes\": \"Probability than the applicant payes knowing he wants to improve her skills, he is a male and he is invited by a friend\",\"No\": \"Probability than the applicant doesn't pay knowing he wants to improve her skills, he is a male and he is invited by a friend\"}, inplace=True)\n",
        "result8"
      ],
      "execution_count": 136,
      "outputs": [
        {
          "output_type": "execute_result",
          "data": {
            "text/plain": [
              "Probability than the applicant doesn't pay knowing he wants to improve her skills, he is a male and he is invited by a friend    0.5625\n",
              "Probability than the applicant payes knowing he wants to improve her skills, he is a male and he is invited by a friend          0.4375\n",
              "Name: payed, dtype: float64"
            ]
          },
          "metadata": {
            "tags": []
          },
          "execution_count": 136
        }
      ]
    },
    {
      "cell_type": "markdown",
      "metadata": {
        "id": "zs7jHBx_jQMb"
      },
      "source": [
        "### Based on these findings, propose strategies to increase our sales?"
      ]
    },
    {
      "cell_type": "code",
      "metadata": {
        "id": "OuI9JxUfjQMb"
      },
      "source": [
        "#here your codes"
      ],
      "execution_count": null,
      "outputs": []
    },
    {
      "cell_type": "markdown",
      "metadata": {
        "id": "8ZZUfnEUjQMb"
      },
      "source": [
        ""
      ]
    }
  ]
}